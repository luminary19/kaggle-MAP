{
 "cells": [
  {
   "cell_type": "markdown",
   "id": "dbef771c",
   "metadata": {
    "_cell_guid": "b1076dfc-b9ad-4769-8c92-a6c4dae69d19",
    "_uuid": "8f2839f25d086af736a60e9eeb907d3b93b6e0e5",
    "papermill": {
     "duration": 0.009478,
     "end_time": "2025-07-24T02:42:48.482459",
     "exception": false,
     "start_time": "2025-07-24T02:42:48.472981",
     "status": "completed"
    },
    "tags": []
   },
   "source": [
    "# Gemma2-2B-it - CV 0.945\n",
    "This notebook is a follow-up of my `Deberta-v3-xsmall` starter notebook [here][1], `ModernBERT-Large` notebook [here][4], and `Ettin-Encoder-1B` notebook [here][6]. This notebook demonstrates how to make an inference only notebook for quick submission to Kaggle's MAP comp! And this notebook teaches two new ideas.\n",
    "\n",
    "## New Lessons\n",
    "This notebook demonstrates some new lessons compared to my previous notebooks.\n",
    "* We can use bigger model `9B > 1B` and achieve a better CV/LB score!\n",
    "* We can use LORA adapter during train and infer for efficient LLM weight updates.\n",
    "\n",
    "## Training Tips\n",
    "This model has `9B` parameters compared with `Ettin-Encoder-1B` which has `1B` parameters. This model is difficult to train on most GPUs. For efficient training, we need to use LORA or QLORA. Eventually I will make a LORA/QLORA notebook for this competition. In the meanwhile, you can view my LORA/QLORA notebook from previous competition [here][7] where we train `Gemma2-9B-it`.\n",
    "\n",
    "Also consider adding `DataCollatorWithPadding` to make training and inference more efficient. This suggestion was made by Eli Haciyev [here][5] and would make training and inference faster and more efficient.\n",
    "\n",
    "## Training Log\n",
    "Using 1xA100 with 80GB VRAM we can load model in bf16 and train with LORA adapter `rank=8`, `batch size=8`, and `learning rate=1e-4`. Training took 2 hours and 45 minutes with the following log:\n",
    "\n",
    "| Epoch | Training Loss | Validation Loss | Map@3   |\n",
    "|-------|---------------|------------------|---------|\n",
    "| 1     | 0.536400      | 0.441546         | 0.925409 |\n",
    "| 2     | 0.410500      | 0.434120         | 0.936285 |\n",
    "| 3     | 0.312000      | 0.494922         | 0.945254 |\n",
    "\n",
    "## How To Make Inference Notebook\n",
    "**STEP 1**: We run my Deberta starter notebook either on Kaggle or on our local computer. We pick any model to train. This time I tried `google/gemma-2-9b-it` (from HF [here][3]) and achieved CV 0.945 in 3 epochs (CV score is actually a 20% hold out validation score). After we are happy with validation score, we **re-train the model using 100% train data**!\n",
    "\n",
    "**STEP 2**: We upload the saved model to a Kaggle dataset. (I uploaded [here][2]). Then we attach Kaggle dataset to this notebook and we run this notebook which only infers the model without training. This makes a quick submission notebook for Kaggle's MAP comp!\n",
    "\n",
    "**Note:** We infer on Kaggle with `bf16=False` and `fp16=True` because Kaggle's T4 does not support `bf16`. Using half precision accelerates inference!\n",
    "\n",
    "[1]: https://www.kaggle.com/code/cdeotte/deberta-starter-cv-0-930/notebook\n",
    "[2]: https://www.kaggle.com/datasets/cdeotte/gemma2-9b-it-cv945\n",
    "[3]: https://huggingface.co/google/gemma-2-9b-it\n",
    "[4]: https://www.kaggle.com/code/cdeotte/modernbert-large-cv-0-938\n",
    "[5]: https://www.kaggle.com/code/cdeotte/modernbert-large-cv-0-938/comments#3250156\n",
    "[6]: https://www.kaggle.com/code/cdeotte/ettin-encoder-1b-cv-0-943\n",
    "[7]: https://www.kaggle.com/code/cdeotte/16th-place-train-1-of-3"
   ]
  },
  {
   "cell_type": "markdown",
   "id": "b7ef1ed0",
   "metadata": {
    "papermill": {
     "duration": 0.007763,
     "end_time": "2025-07-24T02:42:48.498464",
     "exception": false,
     "start_time": "2025-07-24T02:42:48.490701",
     "status": "completed"
    },
    "tags": []
   },
   "source": [
    "# Config"
   ]
  },
  {
   "cell_type": "code",
   "execution_count": 1,
   "id": "91f0ece1",
   "metadata": {
    "execution": {
     "iopub.execute_input": "2025-07-24T02:42:48.515244Z",
     "iopub.status.busy": "2025-07-24T02:42:48.514989Z",
     "iopub.status.idle": "2025-07-24T02:42:48.521325Z",
     "shell.execute_reply": "2025-07-24T02:42:48.520788Z"
    },
    "papermill": {
     "duration": 0.015983,
     "end_time": "2025-07-24T02:42:48.522399",
     "exception": false,
     "start_time": "2025-07-24T02:42:48.506416",
     "status": "completed"
    },
    "tags": []
   },
   "outputs": [],
   "source": [
    "import os\n",
    "os.environ[\"CUDA_VISIBLE_DEVICES\"] = \"0,1\"\n",
    "\n",
    "VER=1\n",
    "#model_name = \"google/gemma-2-9b-it\"\n",
    "model_name = \"/kaggle/input/gemma2-9b-it-cv945\"\n",
    "EPOCHS = 2\n",
    "\n",
    "DIR = f\"ver_{VER}\"\n",
    "os.makedirs(DIR, exist_ok=True)"
   ]
  },
  {
   "cell_type": "markdown",
   "id": "ffacb4e2",
   "metadata": {
    "papermill": {
     "duration": 0.007928,
     "end_time": "2025-07-24T02:42:48.539175",
     "exception": false,
     "start_time": "2025-07-24T02:42:48.531247",
     "status": "completed"
    },
    "tags": []
   },
   "source": [
    "# Load Train"
   ]
  },
  {
   "cell_type": "code",
   "execution_count": 2,
   "id": "d7b53b0d",
   "metadata": {
    "execution": {
     "iopub.execute_input": "2025-07-24T02:42:48.555579Z",
     "iopub.status.busy": "2025-07-24T02:42:48.555408Z",
     "iopub.status.idle": "2025-07-24T02:42:51.370236Z",
     "shell.execute_reply": "2025-07-24T02:42:51.369546Z"
    },
    "papermill": {
     "duration": 2.824357,
     "end_time": "2025-07-24T02:42:51.371352",
     "exception": false,
     "start_time": "2025-07-24T02:42:48.546995",
     "status": "completed"
    },
    "tags": []
   },
   "outputs": [
    {
     "name": "stdout",
     "output_type": "stream",
     "text": [
      "Train shape: (36696, 9) with 65 target classes\n"
     ]
    },
    {
     "data": {
      "text/html": [
       "<div>\n",
       "<style scoped>\n",
       "    .dataframe tbody tr th:only-of-type {\n",
       "        vertical-align: middle;\n",
       "    }\n",
       "\n",
       "    .dataframe tbody tr th {\n",
       "        vertical-align: top;\n",
       "    }\n",
       "\n",
       "    .dataframe thead th {\n",
       "        text-align: right;\n",
       "    }\n",
       "</style>\n",
       "<table border=\"1\" class=\"dataframe\">\n",
       "  <thead>\n",
       "    <tr style=\"text-align: right;\">\n",
       "      <th></th>\n",
       "      <th>row_id</th>\n",
       "      <th>QuestionId</th>\n",
       "      <th>QuestionText</th>\n",
       "      <th>MC_Answer</th>\n",
       "      <th>StudentExplanation</th>\n",
       "      <th>Category</th>\n",
       "      <th>Misconception</th>\n",
       "      <th>target</th>\n",
       "      <th>label</th>\n",
       "    </tr>\n",
       "  </thead>\n",
       "  <tbody>\n",
       "    <tr>\n",
       "      <th>0</th>\n",
       "      <td>0</td>\n",
       "      <td>31772</td>\n",
       "      <td>What fraction of the shape is not shaded? Give...</td>\n",
       "      <td>\\( \\frac{1}{3} \\)</td>\n",
       "      <td>0ne third is equal to tree nineth</td>\n",
       "      <td>True_Correct</td>\n",
       "      <td>NA</td>\n",
       "      <td>True_Correct:NA</td>\n",
       "      <td>37</td>\n",
       "    </tr>\n",
       "    <tr>\n",
       "      <th>1</th>\n",
       "      <td>1</td>\n",
       "      <td>31772</td>\n",
       "      <td>What fraction of the shape is not shaded? Give...</td>\n",
       "      <td>\\( \\frac{1}{3} \\)</td>\n",
       "      <td>1 / 3 because 6 over 9 is 2 thirds and 1 third...</td>\n",
       "      <td>True_Correct</td>\n",
       "      <td>NA</td>\n",
       "      <td>True_Correct:NA</td>\n",
       "      <td>37</td>\n",
       "    </tr>\n",
       "    <tr>\n",
       "      <th>2</th>\n",
       "      <td>2</td>\n",
       "      <td>31772</td>\n",
       "      <td>What fraction of the shape is not shaded? Give...</td>\n",
       "      <td>\\( \\frac{1}{3} \\)</td>\n",
       "      <td>1 3rd is half of 3 6th, so it is simplee to un...</td>\n",
       "      <td>True_Neither</td>\n",
       "      <td>NA</td>\n",
       "      <td>True_Neither:NA</td>\n",
       "      <td>64</td>\n",
       "    </tr>\n",
       "    <tr>\n",
       "      <th>3</th>\n",
       "      <td>3</td>\n",
       "      <td>31772</td>\n",
       "      <td>What fraction of the shape is not shaded? Give...</td>\n",
       "      <td>\\( \\frac{1}{3} \\)</td>\n",
       "      <td>1 goes into everything and 3 goes into nine</td>\n",
       "      <td>True_Neither</td>\n",
       "      <td>NA</td>\n",
       "      <td>True_Neither:NA</td>\n",
       "      <td>64</td>\n",
       "    </tr>\n",
       "    <tr>\n",
       "      <th>4</th>\n",
       "      <td>4</td>\n",
       "      <td>31772</td>\n",
       "      <td>What fraction of the shape is not shaded? Give...</td>\n",
       "      <td>\\( \\frac{1}{3} \\)</td>\n",
       "      <td>1 out of every 3 isn't coloured</td>\n",
       "      <td>True_Correct</td>\n",
       "      <td>NA</td>\n",
       "      <td>True_Correct:NA</td>\n",
       "      <td>37</td>\n",
       "    </tr>\n",
       "  </tbody>\n",
       "</table>\n",
       "</div>"
      ],
      "text/plain": [
       "   row_id  QuestionId                                       QuestionText  \\\n",
       "0       0       31772  What fraction of the shape is not shaded? Give...   \n",
       "1       1       31772  What fraction of the shape is not shaded? Give...   \n",
       "2       2       31772  What fraction of the shape is not shaded? Give...   \n",
       "3       3       31772  What fraction of the shape is not shaded? Give...   \n",
       "4       4       31772  What fraction of the shape is not shaded? Give...   \n",
       "\n",
       "           MC_Answer                                 StudentExplanation  \\\n",
       "0  \\( \\frac{1}{3} \\)                  0ne third is equal to tree nineth   \n",
       "1  \\( \\frac{1}{3} \\)  1 / 3 because 6 over 9 is 2 thirds and 1 third...   \n",
       "2  \\( \\frac{1}{3} \\)  1 3rd is half of 3 6th, so it is simplee to un...   \n",
       "3  \\( \\frac{1}{3} \\)        1 goes into everything and 3 goes into nine   \n",
       "4  \\( \\frac{1}{3} \\)                    1 out of every 3 isn't coloured   \n",
       "\n",
       "       Category Misconception           target  label  \n",
       "0  True_Correct            NA  True_Correct:NA     37  \n",
       "1  True_Correct            NA  True_Correct:NA     37  \n",
       "2  True_Neither            NA  True_Neither:NA     64  \n",
       "3  True_Neither            NA  True_Neither:NA     64  \n",
       "4  True_Correct            NA  True_Correct:NA     37  "
      ]
     },
     "execution_count": 2,
     "metadata": {},
     "output_type": "execute_result"
    }
   ],
   "source": [
    "import pandas as pd, numpy as np\n",
    "from sklearn.preprocessing import LabelEncoder\n",
    "\n",
    "le = LabelEncoder()\n",
    "train = pd.read_csv('/kaggle/input/map-charting-student-math-misunderstandings/train.csv')\n",
    "train.Misconception = train.Misconception.fillna('NA')\n",
    "train['target'] = train.Category+\":\"+train.Misconception\n",
    "train['label'] = le.fit_transform(train['target'])\n",
    "target_classes = le.classes_\n",
    "n_classes = len(target_classes)\n",
    "print(f\"Train shape: {train.shape} with {n_classes} target classes\")\n",
    "train.head()"
   ]
  },
  {
   "cell_type": "markdown",
   "id": "a2a7a463",
   "metadata": {
    "papermill": {
     "duration": 0.008055,
     "end_time": "2025-07-24T02:42:51.388128",
     "exception": false,
     "start_time": "2025-07-24T02:42:51.380073",
     "status": "completed"
    },
    "tags": []
   },
   "source": [
    "# Powerful Feature Engineer\n",
    "We engineer one feature which we will use when formatting the input text for our LLM. Consider using more feature engineering and/or modifying the input text to our LLM. There is a discussion about this feature [here][1]\n",
    "\n",
    "[1]: https://www.kaggle.com/competitions/map-charting-student-math-misunderstandings/discussion/589400"
   ]
  },
  {
   "cell_type": "code",
   "execution_count": 3,
   "id": "2044a68b",
   "metadata": {
    "execution": {
     "iopub.execute_input": "2025-07-24T02:42:51.405082Z",
     "iopub.status.busy": "2025-07-24T02:42:51.404879Z",
     "iopub.status.idle": "2025-07-24T02:42:51.690515Z",
     "shell.execute_reply": "2025-07-24T02:42:51.689955Z"
    },
    "papermill": {
     "duration": 0.295579,
     "end_time": "2025-07-24T02:42:51.691750",
     "exception": false,
     "start_time": "2025-07-24T02:42:51.396171",
     "status": "completed"
    },
    "tags": []
   },
   "outputs": [],
   "source": [
    "idx = train.apply(lambda row: row.Category.split('_')[0],axis=1)=='True'\n",
    "correct = train.loc[idx].copy()\n",
    "correct['c'] = correct.groupby(['QuestionId','MC_Answer']).MC_Answer.transform('count')\n",
    "correct = correct.sort_values('c',ascending=False)\n",
    "correct = correct.drop_duplicates(['QuestionId'])\n",
    "correct = correct[['QuestionId','MC_Answer']]\n",
    "correct['is_correct'] = 1\n",
    "\n",
    "train = train.merge(correct, on=['QuestionId','MC_Answer'], how='left')\n",
    "train.is_correct = train.is_correct.fillna(0)"
   ]
  },
  {
   "cell_type": "markdown",
   "id": "63069bc0",
   "metadata": {
    "papermill": {
     "duration": 0.007963,
     "end_time": "2025-07-24T02:42:51.708827",
     "exception": false,
     "start_time": "2025-07-24T02:42:51.700864",
     "status": "completed"
    },
    "tags": []
   },
   "source": [
    "# Question EDA\n",
    "The train.csv has 15 multiple choice math questions. Below we display each of the questions and the 4 MC choices. The choices are sorted from (A) most popular selected to (D) least popular selected."
   ]
  },
  {
   "cell_type": "code",
   "execution_count": 4,
   "id": "ed598b34",
   "metadata": {
    "_kg_hide-output": true,
    "collapsed": true,
    "execution": {
     "iopub.execute_input": "2025-07-24T02:42:51.726297Z",
     "iopub.status.busy": "2025-07-24T02:42:51.725770Z",
     "iopub.status.idle": "2025-07-24T02:42:51.808744Z",
     "shell.execute_reply": "2025-07-24T02:42:51.807887Z"
    },
    "jupyter": {
     "outputs_hidden": true
    },
    "papermill": {
     "duration": 0.092976,
     "end_time": "2025-07-24T02:42:51.809969",
     "exception": false,
     "start_time": "2025-07-24T02:42:51.716993",
     "status": "completed"
    },
    "tags": []
   },
   "outputs": [
    {
     "name": "stdout",
     "output_type": "stream",
     "text": [
      "\n"
     ]
    },
    {
     "data": {
      "text/latex": [
       "QuestionId 31772: What fraction of the shape is not shaded? Give your answer in its simplest form. [Image: A triangle split into 9 equal smaller triangles. 6 of them are shaded.]"
      ],
      "text/plain": [
       "<IPython.core.display.Latex object>"
      ]
     },
     "metadata": {},
     "output_type": "display_data"
    },
    {
     "data": {
      "text/latex": [
       "MC Answers: (A) \\( \\frac{1}{3} \\) (B) \\( \\frac{3}{9} \\) (C) \\( \\frac{3}{6} \\) (D) \\( \\frac{3}{8} \\)"
      ],
      "text/plain": [
       "<IPython.core.display.Latex object>"
      ]
     },
     "metadata": {},
     "output_type": "display_data"
    },
    {
     "name": "stdout",
     "output_type": "stream",
     "text": [
      "\n"
     ]
    },
    {
     "data": {
      "text/latex": [
       "QuestionId 31774: Calculate \\( \\frac{1}{2} \\div 6 \\)"
      ],
      "text/plain": [
       "<IPython.core.display.Latex object>"
      ]
     },
     "metadata": {},
     "output_type": "display_data"
    },
    {
     "data": {
      "text/latex": [
       "MC Answers: (A) \\( \\frac{1}{12} \\) (B) \\( 3 \\) (C) \\( \\frac{6}{2} \\) (D) \\( \\frac{1}{3} \\)"
      ],
      "text/plain": [
       "<IPython.core.display.Latex object>"
      ]
     },
     "metadata": {},
     "output_type": "display_data"
    },
    {
     "name": "stdout",
     "output_type": "stream",
     "text": [
      "\n"
     ]
    },
    {
     "data": {
      "text/latex": [
       "QuestionId 31777: A box contains \\( 120 \\) counters. The counters are red or blue. \\( \\frac{3}{5} \\) of the counters are red.\n",
       "How many red counters are there?"
      ],
      "text/plain": [
       "<IPython.core.display.Latex object>"
      ]
     },
     "metadata": {},
     "output_type": "display_data"
    },
    {
     "data": {
      "text/latex": [
       "MC Answers: (A) \\( 72 \\) (B) \\( 48 \\) (C) \\( 60 \\) (D) \\( 24 \\)"
      ],
      "text/plain": [
       "<IPython.core.display.Latex object>"
      ]
     },
     "metadata": {},
     "output_type": "display_data"
    },
    {
     "name": "stdout",
     "output_type": "stream",
     "text": [
      "\n"
     ]
    },
    {
     "data": {
      "text/latex": [
       "QuestionId 31778: \\( \\frac{A}{10}=\\frac{9}{15} \\) What is the value of \\( A \\) ?"
      ],
      "text/plain": [
       "<IPython.core.display.Latex object>"
      ]
     },
     "metadata": {},
     "output_type": "display_data"
    },
    {
     "data": {
      "text/latex": [
       "MC Answers: (A) \\( 6 \\) (B) \\( 4 \\) (C) \\( 3 \\) (D) \\( 9 \\)"
      ],
      "text/plain": [
       "<IPython.core.display.Latex object>"
      ]
     },
     "metadata": {},
     "output_type": "display_data"
    },
    {
     "name": "stdout",
     "output_type": "stream",
     "text": [
      "\n"
     ]
    },
    {
     "data": {
      "text/latex": [
       "QuestionId 32829: \\( 2 y=24 \\) What is the value of \\( y \\) ?"
      ],
      "text/plain": [
       "<IPython.core.display.Latex object>"
      ]
     },
     "metadata": {},
     "output_type": "display_data"
    },
    {
     "data": {
      "text/latex": [
       "MC Answers: (A) \\( 12 \\) (B) \\( 4 \\) (C) \\( 22 \\) (D) \\( 48 \\)"
      ],
      "text/plain": [
       "<IPython.core.display.Latex object>"
      ]
     },
     "metadata": {},
     "output_type": "display_data"
    },
    {
     "name": "stdout",
     "output_type": "stream",
     "text": [
      "\n"
     ]
    },
    {
     "data": {
      "text/latex": [
       "QuestionId 32833: Calculate \\( \\frac{2}{3} \\times 5 \\)"
      ],
      "text/plain": [
       "<IPython.core.display.Latex object>"
      ]
     },
     "metadata": {},
     "output_type": "display_data"
    },
    {
     "data": {
      "text/latex": [
       "MC Answers: (A) \\( 3 \\frac{1}{3} \\) (B) \\( \\frac{10}{15} \\) (C) \\( \\frac{2}{15} \\) (D) \\( 5 \\frac{2}{3} \\)"
      ],
      "text/plain": [
       "<IPython.core.display.Latex object>"
      ]
     },
     "metadata": {},
     "output_type": "display_data"
    },
    {
     "name": "stdout",
     "output_type": "stream",
     "text": [
      "\n"
     ]
    },
    {
     "data": {
      "text/latex": [
       "QuestionId 32835: Which number is the greatest?"
      ],
      "text/plain": [
       "<IPython.core.display.Latex object>"
      ]
     },
     "metadata": {},
     "output_type": "display_data"
    },
    {
     "data": {
      "text/latex": [
       "MC Answers: (A) \\( 6.2 \\) (B) \\( 6 \\) (C) \\( 6.079 \\) (D) \\( 6.0001 \\)"
      ],
      "text/plain": [
       "<IPython.core.display.Latex object>"
      ]
     },
     "metadata": {},
     "output_type": "display_data"
    },
    {
     "name": "stdout",
     "output_type": "stream",
     "text": [
      "\n"
     ]
    },
    {
     "data": {
      "text/latex": [
       "QuestionId 33471: A bag contains \\( 24 \\) yellow and green balls. \\( \\frac{3}{8} \\) of the balls are yellow. How many of the balls are green?"
      ],
      "text/plain": [
       "<IPython.core.display.Latex object>"
      ]
     },
     "metadata": {},
     "output_type": "display_data"
    },
    {
     "data": {
      "text/latex": [
       "MC Answers: (A) \\( 15 \\) (B) \\( 9 \\) (C) \\( 8 \\) (D) \\( 3 \\)"
      ],
      "text/plain": [
       "<IPython.core.display.Latex object>"
      ]
     },
     "metadata": {},
     "output_type": "display_data"
    },
    {
     "name": "stdout",
     "output_type": "stream",
     "text": [
      "\n"
     ]
    },
    {
     "data": {
      "text/latex": [
       "QuestionId 33472: \\( \\frac{1}{3}+\\frac{2}{5}= \\)"
      ],
      "text/plain": [
       "<IPython.core.display.Latex object>"
      ]
     },
     "metadata": {},
     "output_type": "display_data"
    },
    {
     "data": {
      "text/latex": [
       "MC Answers: (A) \\( \\frac{11}{15} \\) (B) \\( \\frac{3}{15} \\) (C) \\( \\frac{3}{8} \\) (D) \\( \\frac{11}{30} \\)"
      ],
      "text/plain": [
       "<IPython.core.display.Latex object>"
      ]
     },
     "metadata": {},
     "output_type": "display_data"
    },
    {
     "name": "stdout",
     "output_type": "stream",
     "text": [
      "\n"
     ]
    },
    {
     "data": {
      "text/latex": [
       "QuestionId 33474: Sally has \\( \\frac{2}{3} \\) of a whole cake in the fridge. Robert eats \\( \\frac{1}{3} \\) of this piece. What fraction of the whole cake has Robert eaten?\n",
       "Choose the number sentence that would solve the word problem."
      ],
      "text/plain": [
       "<IPython.core.display.Latex object>"
      ]
     },
     "metadata": {},
     "output_type": "display_data"
    },
    {
     "data": {
      "text/latex": [
       "MC Answers: (A) \\( \\frac{2}{3}-\\frac{1}{3} \\) (B) \\( \\frac{1}{3} \\times \\frac{2}{3} \\) (C) \\( \\frac{2}{3} \\div \\frac{1}{3} \\) (D) \\( \\frac{1}{3}+\\frac{2}{3} \\)"
      ],
      "text/plain": [
       "<IPython.core.display.Latex object>"
      ]
     },
     "metadata": {},
     "output_type": "display_data"
    },
    {
     "name": "stdout",
     "output_type": "stream",
     "text": [
      "\n"
     ]
    },
    {
     "data": {
      "text/latex": [
       "QuestionId 76870: This is part of a regular polygon. How many sides does it have? [Image: A diagram showing an obtuse angle labelled 144 degrees]"
      ],
      "text/plain": [
       "<IPython.core.display.Latex object>"
      ]
     },
     "metadata": {},
     "output_type": "display_data"
    },
    {
     "data": {
      "text/latex": [
       "MC Answers: (A) \\( 10 \\) (B) Not enough information (C) \\( 5 \\) (D) \\( 6 \\)"
      ],
      "text/plain": [
       "<IPython.core.display.Latex object>"
      ]
     },
     "metadata": {},
     "output_type": "display_data"
    },
    {
     "name": "stdout",
     "output_type": "stream",
     "text": [
      "\n"
     ]
    },
    {
     "data": {
      "text/latex": [
       "QuestionId 89443: What number belongs in the box?\n",
       "\\(\n",
       "(-8)-(-5)=\n",
       "\\square\\)"
      ],
      "text/plain": [
       "<IPython.core.display.Latex object>"
      ]
     },
     "metadata": {},
     "output_type": "display_data"
    },
    {
     "data": {
      "text/latex": [
       "MC Answers: (A) \\( -3 \\) (B) \\( -13 \\) (C) \\( 3 \\) (D) \\( 13 \\)"
      ],
      "text/plain": [
       "<IPython.core.display.Latex object>"
      ]
     },
     "metadata": {},
     "output_type": "display_data"
    },
    {
     "name": "stdout",
     "output_type": "stream",
     "text": [
      "\n"
     ]
    },
    {
     "data": {
      "text/latex": [
       "QuestionId 91695: Dots have been arranged in these patterns: [Image: Pattern 1 consists of 6 dots, Pattern 2 consists of 10 dots, Pattern 3 consists of 14 dots and Pattern 4 consists of 18 dots] How many dots would there be in Pattern \\( 6 \\) ?"
      ],
      "text/plain": [
       "<IPython.core.display.Latex object>"
      ]
     },
     "metadata": {},
     "output_type": "display_data"
    },
    {
     "data": {
      "text/latex": [
       "MC Answers: (A) \\( 26 \\) (B) \\( 22 \\) (C) \\( 36 \\) (D) \\( 20 \\)"
      ],
      "text/plain": [
       "<IPython.core.display.Latex object>"
      ]
     },
     "metadata": {},
     "output_type": "display_data"
    },
    {
     "name": "stdout",
     "output_type": "stream",
     "text": [
      "\n"
     ]
    },
    {
     "data": {
      "text/latex": [
       "QuestionId 104665: It takes \\( 3 \\) people a total of \\( 192 \\) hours to build a wall.\n",
       "\n",
       "How long would it take if \\( 12 \\) people built the same wall?"
      ],
      "text/plain": [
       "<IPython.core.display.Latex object>"
      ]
     },
     "metadata": {},
     "output_type": "display_data"
    },
    {
     "data": {
      "text/latex": [
       "MC Answers: (A) \\( 48 \\) hours (B) \\( 768 \\) hours (C) \\( 64 \\) hours (D) \\( 192 \\) hours"
      ],
      "text/plain": [
       "<IPython.core.display.Latex object>"
      ]
     },
     "metadata": {},
     "output_type": "display_data"
    },
    {
     "name": "stdout",
     "output_type": "stream",
     "text": [
      "\n"
     ]
    },
    {
     "data": {
      "text/latex": [
       "QuestionId 109465: The probability of an event occurring is \\( 0.9 \\).\n",
       "\n",
       "Which of the following most accurately describes the likelihood of the event occurring?"
      ],
      "text/plain": [
       "<IPython.core.display.Latex object>"
      ]
     },
     "metadata": {},
     "output_type": "display_data"
    },
    {
     "data": {
      "text/latex": [
       "MC Answers: (A) Likely (B) Unlikely (C) Certain (D) Impossible"
      ],
      "text/plain": [
       "<IPython.core.display.Latex object>"
      ]
     },
     "metadata": {},
     "output_type": "display_data"
    }
   ],
   "source": [
    "from IPython.display import display, Math, Latex\n",
    "\n",
    "# GET ANSWER CHOICES\n",
    "tmp = train.groupby(['QuestionId','MC_Answer']).size().reset_index(name='count')\n",
    "tmp['rank'] = tmp.groupby('QuestionId')['count'].rank(method='dense', ascending=False).astype(int) - 1\n",
    "tmp = tmp.drop('count',axis=1)\n",
    "tmp = tmp.sort_values(['QuestionId','rank'])\n",
    "\n",
    "# DISPLAY QUESTION AND ANSWER CHOICES\n",
    "Q = tmp.QuestionId.unique()\n",
    "for q in Q:\n",
    "    question = train.loc[train.QuestionId==q].iloc[0].QuestionText\n",
    "    choices = tmp.loc[tmp.QuestionId==q].MC_Answer.values\n",
    "    labels=\"ABCD\"\n",
    "    choice_str = \" \".join([f\"({labels[i]}) {choice}\" for i, choice in enumerate(choices)])\n",
    "    \n",
    "    print()\n",
    "    display(Latex(f\"QuestionId {q}: {question}\") )\n",
    "    display(Latex(f\"MC Answers: {choice_str}\"))"
   ]
  },
  {
   "cell_type": "markdown",
   "id": "5928d35a",
   "metadata": {
    "papermill": {
     "duration": 0.011503,
     "end_time": "2025-07-24T02:42:51.833458",
     "exception": false,
     "start_time": "2025-07-24T02:42:51.821955",
     "status": "completed"
    },
    "tags": []
   },
   "source": [
    "# Train with Transformers\n",
    "We will train our Gemma2 model using Transformers library."
   ]
  },
  {
   "cell_type": "code",
   "execution_count": 5,
   "id": "f6f14d1a",
   "metadata": {
    "execution": {
     "iopub.execute_input": "2025-07-24T02:42:51.857322Z",
     "iopub.status.busy": "2025-07-24T02:42:51.857090Z",
     "iopub.status.idle": "2025-07-24T02:43:01.215273Z",
     "shell.execute_reply": "2025-07-24T02:43:01.214631Z"
    },
    "papermill": {
     "duration": 9.371811,
     "end_time": "2025-07-24T02:43:01.216646",
     "exception": false,
     "start_time": "2025-07-24T02:42:51.844835",
     "status": "completed"
    },
    "tags": []
   },
   "outputs": [],
   "source": [
    "import torch\n",
    "from transformers import AutoTokenizer\n",
    "from sklearn.model_selection import train_test_split\n",
    "from datasets import Dataset\n",
    "import numpy as np\n",
    "\n",
    "tokenizer = AutoTokenizer.from_pretrained(model_name)\n",
    "MAX_LEN = 256"
   ]
  },
  {
   "cell_type": "markdown",
   "id": "462b7dc2",
   "metadata": {
    "papermill": {
     "duration": 0.010524,
     "end_time": "2025-07-24T02:43:01.238492",
     "exception": false,
     "start_time": "2025-07-24T02:43:01.227968",
     "status": "completed"
    },
    "tags": []
   },
   "source": [
    "# Tokenize Train Data\n",
    "First we must tokenizer our data. Before we can tokenizer, we need to decide how to convert the multiple text columns into a single prompt. We will show our model the `QuestionText`, then the `MC_Answer` response, then use our `powerful feature engineer` to say whether this answer is `correct or incorrect`. Finally we will show our LLM the `StudentExplanation`.\n",
    "\n",
    "Consider changing the prompt below. Modifying the prompt can significantly improve our CV score!"
   ]
  },
  {
   "cell_type": "code",
   "execution_count": 6,
   "id": "ae204acd",
   "metadata": {
    "execution": {
     "iopub.execute_input": "2025-07-24T02:43:01.260836Z",
     "iopub.status.busy": "2025-07-24T02:43:01.260433Z",
     "iopub.status.idle": "2025-07-24T02:43:01.607373Z",
     "shell.execute_reply": "2025-07-24T02:43:01.606512Z"
    },
    "papermill": {
     "duration": 0.359439,
     "end_time": "2025-07-24T02:43:01.608550",
     "exception": false,
     "start_time": "2025-07-24T02:43:01.249111",
     "status": "completed"
    },
    "tags": []
   },
   "outputs": [
    {
     "name": "stdout",
     "output_type": "stream",
     "text": [
      "Example prompt for our LLM:\n",
      "\n",
      "Question: What fraction of the shape is not shaded? Give your answer in its simplest form. [Image: A triangle split into 9 equal smaller triangles. 6 of them are shaded.]\n",
      "Answer: \\( \\frac{1}{3} \\)\n",
      "Correct? Yes\n",
      "Student Explanation: 0ne third is equal to tree nineth\n"
     ]
    }
   ],
   "source": [
    "def format_input(row):\n",
    "    x = \"Yes\"\n",
    "    if not row['is_correct']:\n",
    "        x = \"No\"\n",
    "    return (\n",
    "        f\"Question: {row['QuestionText']}\\n\"\n",
    "        f\"Answer: {row['MC_Answer']}\\n\"\n",
    "        f\"Correct? {x}\\n\"\n",
    "        f\"Student Explanation: {row['StudentExplanation']}\"\n",
    "    )\n",
    "\n",
    "train['text'] = train.apply(format_input,axis=1)\n",
    "print(\"Example prompt for our LLM:\")\n",
    "print()\n",
    "print( train.text.values[0] )"
   ]
  },
  {
   "cell_type": "code",
   "execution_count": 7,
   "id": "66b0cd1b",
   "metadata": {
    "_kg_hide-output": true,
    "execution": {
     "iopub.execute_input": "2025-07-24T02:43:01.631368Z",
     "iopub.status.busy": "2025-07-24T02:43:01.631137Z",
     "iopub.status.idle": "2025-07-24T02:43:07.506715Z",
     "shell.execute_reply": "2025-07-24T02:43:07.505969Z"
    },
    "papermill": {
     "duration": 5.888862,
     "end_time": "2025-07-24T02:43:07.508453",
     "exception": false,
     "start_time": "2025-07-24T02:43:01.619591",
     "status": "completed"
    },
    "tags": []
   },
   "outputs": [
    {
     "data": {
      "image/png": "[encoded data removed]",
      "text/plain": [
       "<Figure size 640x480 with 1 Axes>"
      ]
     },
     "metadata": {},
     "output_type": "display_data"
    }
   ],
   "source": [
    "lengths = [len(tokenizer.encode(t, truncation=False)) for t in train[\"text\"]]\n",
    "import matplotlib.pyplot as plt\n",
    "\n",
    "plt.hist(lengths, bins=50)\n",
    "plt.title(\"Token Length Distribution\")\n",
    "plt.xlabel(\"Number of tokens\")\n",
    "plt.ylabel(\"Frequency\")\n",
    "plt.grid(True)\n",
    "plt.show()"
   ]
  },
  {
   "cell_type": "code",
   "execution_count": 8,
   "id": "3ee63302",
   "metadata": {
    "execution": {
     "iopub.execute_input": "2025-07-24T02:43:07.539877Z",
     "iopub.status.busy": "2025-07-24T02:43:07.539299Z",
     "iopub.status.idle": "2025-07-24T02:43:07.554265Z",
     "shell.execute_reply": "2025-07-24T02:43:07.553602Z"
    },
    "papermill": {
     "duration": 0.027905,
     "end_time": "2025-07-24T02:43:07.555315",
     "exception": false,
     "start_time": "2025-07-24T02:43:07.527410",
     "status": "completed"
    },
    "tags": []
   },
   "outputs": [
    {
     "name": "stdout",
     "output_type": "stream",
     "text": [
      "There are 1 train sample(s) with more than 256 tokens\n"
     ]
    },
    {
     "data": {
      "text/plain": [
       "array([ 31,  31,  31, ..., 195, 231, 325])"
      ]
     },
     "execution_count": 8,
     "metadata": {},
     "output_type": "execute_result"
    }
   ],
   "source": [
    "L = (np.array(lengths)>MAX_LEN).sum()\n",
    "print(f\"There are {L} train sample(s) with more than {MAX_LEN} tokens\")\n",
    "np.sort( lengths )"
   ]
  },
  {
   "cell_type": "markdown",
   "id": "a7c41c00",
   "metadata": {
    "papermill": {
     "duration": 0.054268,
     "end_time": "2025-07-24T02:43:07.620771",
     "exception": false,
     "start_time": "2025-07-24T02:43:07.566503",
     "status": "completed"
    },
    "tags": []
   },
   "source": [
    "# Create 20% Validation Subset"
   ]
  },
  {
   "cell_type": "code",
   "execution_count": 9,
   "id": "d37170e4",
   "metadata": {
    "execution": {
     "iopub.execute_input": "2025-07-24T02:43:07.645328Z",
     "iopub.status.busy": "2025-07-24T02:43:07.644468Z",
     "iopub.status.idle": "2025-07-24T02:43:07.724945Z",
     "shell.execute_reply": "2025-07-24T02:43:07.724119Z"
    },
    "papermill": {
     "duration": 0.094517,
     "end_time": "2025-07-24T02:43:07.726557",
     "exception": false,
     "start_time": "2025-07-24T02:43:07.632040",
     "status": "completed"
    },
    "tags": []
   },
   "outputs": [],
   "source": [
    "# Split into train and validation sets\n",
    "train_df, val_df = train_test_split(train, test_size=0.2, random_state=42)\n",
    "\n",
    "# Convert to Hugging Face Dataset\n",
    "COLS = ['text','label']\n",
    "train_ds = Dataset.from_pandas(train_df[COLS])\n",
    "val_ds = Dataset.from_pandas(val_df[COLS])"
   ]
  },
  {
   "cell_type": "code",
   "execution_count": 10,
   "id": "373d9c54",
   "metadata": {
    "execution": {
     "iopub.execute_input": "2025-07-24T02:43:07.752586Z",
     "iopub.status.busy": "2025-07-24T02:43:07.752012Z",
     "iopub.status.idle": "2025-07-24T02:43:13.983577Z",
     "shell.execute_reply": "2025-07-24T02:43:13.982811Z"
    },
    "papermill": {
     "duration": 6.245305,
     "end_time": "2025-07-24T02:43:13.984979",
     "exception": false,
     "start_time": "2025-07-24T02:43:07.739674",
     "status": "completed"
    },
    "tags": []
   },
   "outputs": [
    {
     "data": {
      "application/vnd.jupyter.widget-view+json": {
       "model_id": "172e3ad2d050456a87dc607914e7233c",
       "version_major": 2,
       "version_minor": 0
      },
      "text/plain": [
       "Map:   0%|          | 0/29356 [00:00<?, ? examples/s]"
      ]
     },
     "metadata": {},
     "output_type": "display_data"
    },
    {
     "data": {
      "application/vnd.jupyter.widget-view+json": {
       "model_id": "21928200d9514f19b7fa3aa85805c6d4",
       "version_major": 2,
       "version_minor": 0
      },
      "text/plain": [
       "Map:   0%|          | 0/7340 [00:00<?, ? examples/s]"
      ]
     },
     "metadata": {},
     "output_type": "display_data"
    }
   ],
   "source": [
    "# Tokenization function\n",
    "def tokenize(batch):\n",
    "    return tokenizer(batch[\"text\"], padding=\"max_length\", truncation=True, max_length=256)\n",
    "\n",
    "train_ds = train_ds.map(tokenize, batched=True)\n",
    "val_ds = val_ds.map(tokenize, batched=True)\n",
    "\n",
    "# Set format for PyTorch\n",
    "columns = ['input_ids', 'attention_mask', 'label']\n",
    "train_ds.set_format(type='torch', columns=columns)\n",
    "val_ds.set_format(type='torch', columns=columns)"
   ]
  },
  {
   "cell_type": "markdown",
   "id": "07c429dc",
   "metadata": {
    "papermill": {
     "duration": 0.012437,
     "end_time": "2025-07-24T02:43:14.009493",
     "exception": false,
     "start_time": "2025-07-24T02:43:13.997056",
     "status": "completed"
    },
    "tags": []
   },
   "source": [
    "# Initialize Model\n",
    "Let's initialize and train our model with HuggingFace trainer. We also define a custom metric of MAP@3 which is the competition metric."
   ]
  },
  {
   "cell_type": "code",
   "execution_count": 11,
   "id": "8524dee4",
   "metadata": {
    "execution": {
     "iopub.execute_input": "2025-07-24T02:43:14.032962Z",
     "iopub.status.busy": "2025-07-24T02:43:14.032689Z",
     "iopub.status.idle": "2025-07-24T02:45:22.498645Z",
     "shell.execute_reply": "2025-07-24T02:45:22.497889Z"
    },
    "papermill": {
     "duration": 128.479295,
     "end_time": "2025-07-24T02:45:22.499967",
     "exception": false,
     "start_time": "2025-07-24T02:43:14.020672",
     "status": "completed"
    },
    "tags": []
   },
   "outputs": [
    {
     "name": "stderr",
     "output_type": "stream",
     "text": [
      "2025-07-24 02:43:21.771009: E external/local_xla/xla/stream_executor/cuda/cuda_fft.cc:477] Unable to register cuFFT factory: Attempting to register factory for plugin cuFFT when one has already been registered\n",
      "WARNING: All log messages before absl::InitializeLog() is called are written to STDERR\n",
      "E0000 00:00:1753325001.979941      19 cuda_dnn.cc:8310] Unable to register cuDNN factory: Attempting to register factory for plugin cuDNN when one has already been registered\n",
      "E0000 00:00:1753325002.036842      19 cuda_blas.cc:1418] Unable to register cuBLAS factory: Attempting to register factory for plugin cuBLAS when one has already been registered\n"
     ]
    },
    {
     "data": {
      "application/vnd.jupyter.widget-view+json": {
       "model_id": "40fad7ec87da469dac91f8252baf2d2d",
       "version_major": 2,
       "version_minor": 0
      },
      "text/plain": [
       "Loading checkpoint shards:   0%|          | 0/4 [00:00<?, ?it/s]"
      ]
     },
     "metadata": {},
     "output_type": "display_data"
    },
    {
     "name": "stderr",
     "output_type": "stream",
     "text": [
      "Some weights of Gemma2ForSequenceClassification were not initialized from the model checkpoint at /kaggle/input/gemma2-9b-it-bf16 and are newly initialized: ['score.weight']\n",
      "You should probably TRAIN this model on a down-stream task to be able to use it for predictions and inference.\n"
     ]
    }
   ],
   "source": [
    "from transformers import AutoModelForSequenceClassification, TrainingArguments, Trainer\n",
    "\n",
    "model = AutoModelForSequenceClassification.from_pretrained(\n",
    "    \"/kaggle/input/gemma2-9b-it-bf16\",\n",
    "    num_labels=n_classes,\n",
    "    torch_dtype=torch.bfloat16,\n",
    "    device_map=\"auto\",\n",
    ")"
   ]
  },
  {
   "cell_type": "markdown",
   "id": "5010c9bb",
   "metadata": {
    "papermill": {
     "duration": 0.011383,
     "end_time": "2025-07-24T02:45:22.524060",
     "exception": false,
     "start_time": "2025-07-24T02:45:22.512677",
     "status": "completed"
    },
    "tags": []
   },
   "source": [
    "# Load PEFT Adapter and Infer\n",
    "We trained this model with a LORA adapter. So now during inference we load the saved LORA adapter to wrap the pretrained `Gemma2-9B-it` base model. (To learn how to train with LORA/QLORA, see previous competition notebook [here][1])\n",
    "\n",
    "[1]: https://www.kaggle.com/code/cdeotte/16th-place-train-1-of-3"
   ]
  },
  {
   "cell_type": "code",
   "execution_count": 12,
   "id": "415bdd64",
   "metadata": {
    "execution": {
     "iopub.execute_input": "2025-07-24T02:45:22.548173Z",
     "iopub.status.busy": "2025-07-24T02:45:22.547365Z",
     "iopub.status.idle": "2025-07-24T02:45:23.981562Z",
     "shell.execute_reply": "2025-07-24T02:45:23.980972Z"
    },
    "papermill": {
     "duration": 1.447389,
     "end_time": "2025-07-24T02:45:23.982820",
     "exception": false,
     "start_time": "2025-07-24T02:45:22.535431",
     "status": "completed"
    },
    "tags": []
   },
   "outputs": [
    {
     "name": "stderr",
     "output_type": "stream",
     "text": [
      "/usr/local/lib/python3.11/dist-packages/peft/config.py:165: UserWarning: Unexpected keyword arguments ['qalora_group_size', 'use_qalora'] for class LoraConfig, these are ignored. This probably means that you're loading a configuration file that was saved using a higher version of the library and additional parameters have been introduced since. It is highly recommended to upgrade the PEFT version before continuing (e.g. by running `pip install -U peft`).\n",
      "  warnings.warn(\n"
     ]
    }
   ],
   "source": [
    "from peft import PeftModel\n",
    "model = PeftModel.from_pretrained(model, model_name)"
   ]
  },
  {
   "cell_type": "code",
   "execution_count": 13,
   "id": "0f71fa48",
   "metadata": {
    "execution": {
     "iopub.execute_input": "2025-07-24T02:45:24.007408Z",
     "iopub.status.busy": "2025-07-24T02:45:24.007026Z",
     "iopub.status.idle": "2025-07-24T02:45:24.038084Z",
     "shell.execute_reply": "2025-07-24T02:45:24.037544Z"
    },
    "papermill": {
     "duration": 0.044745,
     "end_time": "2025-07-24T02:45:24.039627",
     "exception": false,
     "start_time": "2025-07-24T02:45:23.994882",
     "status": "completed"
    },
    "tags": []
   },
   "outputs": [],
   "source": [
    "training_args = TrainingArguments(\n",
    "    output_dir = f\"./{DIR}\",\n",
    "    do_train=True,\n",
    "    do_eval=True,\n",
    "    eval_strategy=\"steps\",\n",
    "    save_strategy=\"steps\", #no for no saving \n",
    "    num_train_epochs=EPOCHS,\n",
    "    per_device_train_batch_size=8,\n",
    "    per_device_eval_batch_size=16,\n",
    "    learning_rate=2e-5,\n",
    "    logging_dir=\"./logs\",\n",
    "    logging_steps=50,\n",
    "    save_steps=200,\n",
    "    eval_steps=200,\n",
    "    save_total_limit=1,\n",
    "    metric_for_best_model=\"map@3\",\n",
    "    greater_is_better=True,\n",
    "    load_best_model_at_end=True,\n",
    "    report_to=\"none\",\n",
    "    bf16=False, # TRAIN WITH BF16 IF LOCAL GPU IS NEWER GPU          \n",
    "    fp16=True, # INFER WITH FP16 BECAUSE KAGGLE IS T4 GPU\n",
    ")"
   ]
  },
  {
   "cell_type": "code",
   "execution_count": 14,
   "id": "0e072eb0",
   "metadata": {
    "execution": {
     "iopub.execute_input": "2025-07-24T02:45:24.063813Z",
     "iopub.status.busy": "2025-07-24T02:45:24.063606Z",
     "iopub.status.idle": "2025-07-24T02:45:24.068380Z",
     "shell.execute_reply": "2025-07-24T02:45:24.067891Z"
    },
    "papermill": {
     "duration": 0.017837,
     "end_time": "2025-07-24T02:45:24.069395",
     "exception": false,
     "start_time": "2025-07-24T02:45:24.051558",
     "status": "completed"
    },
    "tags": []
   },
   "outputs": [],
   "source": [
    "# CUSTOM MAP@3 METRIC\n",
    "\n",
    "from sklearn.metrics import average_precision_score\n",
    "\n",
    "def compute_map3(eval_pred):\n",
    "    logits, labels = eval_pred\n",
    "    probs = torch.nn.functional.softmax(torch.tensor(logits), dim=-1).numpy()\n",
    "    \n",
    "    top3 = np.argsort(-probs, axis=1)[:, :3]  # Top 3 predictions\n",
    "    match = (top3 == labels[:, None])\n",
    "\n",
    "    # Compute MAP@3 manually\n",
    "    map3 = 0\n",
    "    for i in range(len(labels)):\n",
    "        if match[i, 0]:\n",
    "            map3 += 1.0\n",
    "        elif match[i, 1]:\n",
    "            map3 += 1.0 / 2\n",
    "        elif match[i, 2]:\n",
    "            map3 += 1.0 / 3\n",
    "    return {\"map@3\": map3 / len(labels)}"
   ]
  },
  {
   "cell_type": "code",
   "execution_count": 15,
   "id": "5677b751",
   "metadata": {
    "execution": {
     "iopub.execute_input": "2025-07-24T02:45:24.093077Z",
     "iopub.status.busy": "2025-07-24T02:45:24.092676Z",
     "iopub.status.idle": "2025-07-24T02:45:24.112040Z",
     "shell.execute_reply": "2025-07-24T02:45:24.111270Z"
    },
    "papermill": {
     "duration": 0.032449,
     "end_time": "2025-07-24T02:45:24.113188",
     "exception": false,
     "start_time": "2025-07-24T02:45:24.080739",
     "status": "completed"
    },
    "tags": []
   },
   "outputs": [
    {
     "name": "stderr",
     "output_type": "stream",
     "text": [
      "/tmp/ipykernel_19/661334471.py:2: FutureWarning: `tokenizer` is deprecated and will be removed in version 5.0.0 for `Trainer.__init__`. Use `processing_class` instead.\n",
      "  trainer = Trainer(\n",
      "No label_names provided for model class `PeftModelForSequenceClassification`. Since `PeftModel` hides base models input arguments, if label_names is not given, label_names can't be set automatically within `Trainer`. Note that empty label_names list will be used instead.\n"
     ]
    }
   ],
   "source": [
    "# Trainer\n",
    "trainer = Trainer(\n",
    "    model=model,\n",
    "    args=training_args,\n",
    "    train_dataset=train_ds,\n",
    "    eval_dataset=val_ds,\n",
    "    tokenizer=tokenizer,\n",
    "    compute_metrics=compute_map3,\n",
    ")\n",
    "\n",
    "#trainer.train()"
   ]
  },
  {
   "cell_type": "markdown",
   "id": "14f0bac7",
   "metadata": {
    "papermill": {
     "duration": 0.011303,
     "end_time": "2025-07-24T02:45:24.136255",
     "exception": false,
     "start_time": "2025-07-24T02:45:24.124952",
     "status": "completed"
    },
    "tags": []
   },
   "source": [
    "# Save Model\n",
    "This is how to save the files we need to upload to a Kaggle dataset for inference. If we train with LORA/QLORA adapter then this save command efficiently only saves the LORA adapter. (i.e. the same LORA adapter that this inference notebook is using)."
   ]
  },
  {
   "cell_type": "code",
   "execution_count": 16,
   "id": "3c143f06",
   "metadata": {
    "execution": {
     "iopub.execute_input": "2025-07-24T02:45:24.159700Z",
     "iopub.status.busy": "2025-07-24T02:45:24.159525Z",
     "iopub.status.idle": "2025-07-24T02:45:24.162547Z",
     "shell.execute_reply": "2025-07-24T02:45:24.161878Z"
    },
    "papermill": {
     "duration": 0.016096,
     "end_time": "2025-07-24T02:45:24.163681",
     "exception": false,
     "start_time": "2025-07-24T02:45:24.147585",
     "status": "completed"
    },
    "tags": []
   },
   "outputs": [],
   "source": [
    "#trainer.save_model(f\"ver_{VER}\")      \n",
    "#tokenizer.save_pretrained(f\"ver_{VER}\")"
   ]
  },
  {
   "cell_type": "markdown",
   "id": "215dd6e6",
   "metadata": {
    "papermill": {
     "duration": 0.011273,
     "end_time": "2025-07-24T02:45:24.186609",
     "exception": false,
     "start_time": "2025-07-24T02:45:24.175336",
     "status": "completed"
    },
    "tags": []
   },
   "source": [
    "# Load and Predict Test \n",
    "We load test data, then engineer our powerful feature, then create prompt, then tokenize. Finally we infer test and generate probabilities for all 65 multi-classes."
   ]
  },
  {
   "cell_type": "code",
   "execution_count": 17,
   "id": "9078d567",
   "metadata": {
    "execution": {
     "iopub.execute_input": "2025-07-24T02:45:24.211175Z",
     "iopub.status.busy": "2025-07-24T02:45:24.211000Z",
     "iopub.status.idle": "2025-07-24T02:45:24.223587Z",
     "shell.execute_reply": "2025-07-24T02:45:24.223064Z"
    },
    "papermill": {
     "duration": 0.025422,
     "end_time": "2025-07-24T02:45:24.224564",
     "exception": false,
     "start_time": "2025-07-24T02:45:24.199142",
     "status": "completed"
    },
    "tags": []
   },
   "outputs": [
    {
     "name": "stdout",
     "output_type": "stream",
     "text": [
      "(3, 5)\n"
     ]
    },
    {
     "data": {
      "text/html": [
       "<div>\n",
       "<style scoped>\n",
       "    .dataframe tbody tr th:only-of-type {\n",
       "        vertical-align: middle;\n",
       "    }\n",
       "\n",
       "    .dataframe tbody tr th {\n",
       "        vertical-align: top;\n",
       "    }\n",
       "\n",
       "    .dataframe thead th {\n",
       "        text-align: right;\n",
       "    }\n",
       "</style>\n",
       "<table border=\"1\" class=\"dataframe\">\n",
       "  <thead>\n",
       "    <tr style=\"text-align: right;\">\n",
       "      <th></th>\n",
       "      <th>row_id</th>\n",
       "      <th>QuestionId</th>\n",
       "      <th>QuestionText</th>\n",
       "      <th>MC_Answer</th>\n",
       "      <th>StudentExplanation</th>\n",
       "    </tr>\n",
       "  </thead>\n",
       "  <tbody>\n",
       "    <tr>\n",
       "      <th>0</th>\n",
       "      <td>36696</td>\n",
       "      <td>31772</td>\n",
       "      <td>What fraction of the shape is not shaded? Give...</td>\n",
       "      <td>\\( \\frac{1}{3} \\)</td>\n",
       "      <td>I think that 1/3 is the answer, as it's the si...</td>\n",
       "    </tr>\n",
       "    <tr>\n",
       "      <th>1</th>\n",
       "      <td>36697</td>\n",
       "      <td>31772</td>\n",
       "      <td>What fraction of the shape is not shaded? Give...</td>\n",
       "      <td>\\( \\frac{3}{6} \\)</td>\n",
       "      <td>i think this answer is because 3 triangles are...</td>\n",
       "    </tr>\n",
       "    <tr>\n",
       "      <th>2</th>\n",
       "      <td>36698</td>\n",
       "      <td>32835</td>\n",
       "      <td>Which number is the greatest?</td>\n",
       "      <td>\\( 6.2 \\)</td>\n",
       "      <td>because the 2 makes it higher than the others.</td>\n",
       "    </tr>\n",
       "  </tbody>\n",
       "</table>\n",
       "</div>"
      ],
      "text/plain": [
       "   row_id  QuestionId                                       QuestionText  \\\n",
       "0   36696       31772  What fraction of the shape is not shaded? Give...   \n",
       "1   36697       31772  What fraction of the shape is not shaded? Give...   \n",
       "2   36698       32835                      Which number is the greatest?   \n",
       "\n",
       "           MC_Answer                                 StudentExplanation  \n",
       "0  \\( \\frac{1}{3} \\)  I think that 1/3 is the answer, as it's the si...  \n",
       "1  \\( \\frac{3}{6} \\)  i think this answer is because 3 triangles are...  \n",
       "2          \\( 6.2 \\)     because the 2 makes it higher than the others.  "
      ]
     },
     "execution_count": 17,
     "metadata": {},
     "output_type": "execute_result"
    }
   ],
   "source": [
    "test = pd.read_csv('/kaggle/input/map-charting-student-math-misunderstandings/test.csv')\n",
    "print( test.shape )\n",
    "test.head()"
   ]
  },
  {
   "cell_type": "code",
   "execution_count": 18,
   "id": "d44d7e5e",
   "metadata": {
    "execution": {
     "iopub.execute_input": "2025-07-24T02:45:24.248605Z",
     "iopub.status.busy": "2025-07-24T02:45:24.248377Z",
     "iopub.status.idle": "2025-07-24T02:45:24.260959Z",
     "shell.execute_reply": "2025-07-24T02:45:24.260375Z"
    },
    "papermill": {
     "duration": 0.025833,
     "end_time": "2025-07-24T02:45:24.262052",
     "exception": false,
     "start_time": "2025-07-24T02:45:24.236219",
     "status": "completed"
    },
    "tags": []
   },
   "outputs": [
    {
     "data": {
      "text/html": [
       "<div>\n",
       "<style scoped>\n",
       "    .dataframe tbody tr th:only-of-type {\n",
       "        vertical-align: middle;\n",
       "    }\n",
       "\n",
       "    .dataframe tbody tr th {\n",
       "        vertical-align: top;\n",
       "    }\n",
       "\n",
       "    .dataframe thead th {\n",
       "        text-align: right;\n",
       "    }\n",
       "</style>\n",
       "<table border=\"1\" class=\"dataframe\">\n",
       "  <thead>\n",
       "    <tr style=\"text-align: right;\">\n",
       "      <th></th>\n",
       "      <th>row_id</th>\n",
       "      <th>QuestionId</th>\n",
       "      <th>QuestionText</th>\n",
       "      <th>MC_Answer</th>\n",
       "      <th>StudentExplanation</th>\n",
       "      <th>is_correct</th>\n",
       "      <th>text</th>\n",
       "    </tr>\n",
       "  </thead>\n",
       "  <tbody>\n",
       "    <tr>\n",
       "      <th>0</th>\n",
       "      <td>36696</td>\n",
       "      <td>31772</td>\n",
       "      <td>What fraction of the shape is not shaded? Give...</td>\n",
       "      <td>\\( \\frac{1}{3} \\)</td>\n",
       "      <td>I think that 1/3 is the answer, as it's the si...</td>\n",
       "      <td>1.0</td>\n",
       "      <td>Question: What fraction of the shape is not sh...</td>\n",
       "    </tr>\n",
       "    <tr>\n",
       "      <th>1</th>\n",
       "      <td>36697</td>\n",
       "      <td>31772</td>\n",
       "      <td>What fraction of the shape is not shaded? Give...</td>\n",
       "      <td>\\( \\frac{3}{6} \\)</td>\n",
       "      <td>i think this answer is because 3 triangles are...</td>\n",
       "      <td>0.0</td>\n",
       "      <td>Question: What fraction of the shape is not sh...</td>\n",
       "    </tr>\n",
       "    <tr>\n",
       "      <th>2</th>\n",
       "      <td>36698</td>\n",
       "      <td>32835</td>\n",
       "      <td>Which number is the greatest?</td>\n",
       "      <td>\\( 6.2 \\)</td>\n",
       "      <td>because the 2 makes it higher than the others.</td>\n",
       "      <td>1.0</td>\n",
       "      <td>Question: Which number is the greatest?\\nAnswe...</td>\n",
       "    </tr>\n",
       "  </tbody>\n",
       "</table>\n",
       "</div>"
      ],
      "text/plain": [
       "   row_id  QuestionId                                       QuestionText  \\\n",
       "0   36696       31772  What fraction of the shape is not shaded? Give...   \n",
       "1   36697       31772  What fraction of the shape is not shaded? Give...   \n",
       "2   36698       32835                      Which number is the greatest?   \n",
       "\n",
       "           MC_Answer                                 StudentExplanation  \\\n",
       "0  \\( \\frac{1}{3} \\)  I think that 1/3 is the answer, as it's the si...   \n",
       "1  \\( \\frac{3}{6} \\)  i think this answer is because 3 triangles are...   \n",
       "2          \\( 6.2 \\)     because the 2 makes it higher than the others.   \n",
       "\n",
       "   is_correct                                               text  \n",
       "0         1.0  Question: What fraction of the shape is not sh...  \n",
       "1         0.0  Question: What fraction of the shape is not sh...  \n",
       "2         1.0  Question: Which number is the greatest?\\nAnswe...  "
      ]
     },
     "execution_count": 18,
     "metadata": {},
     "output_type": "execute_result"
    }
   ],
   "source": [
    "test = test.merge(correct, on=['QuestionId','MC_Answer'], how='left')\n",
    "test.is_correct = test.is_correct.fillna(0)\n",
    "\n",
    "test['text'] = test.apply(format_input,axis=1)\n",
    "\n",
    "test.head()"
   ]
  },
  {
   "cell_type": "code",
   "execution_count": 19,
   "id": "cc88bab4",
   "metadata": {
    "execution": {
     "iopub.execute_input": "2025-07-24T02:45:24.287388Z",
     "iopub.status.busy": "2025-07-24T02:45:24.287016Z",
     "iopub.status.idle": "2025-07-24T02:45:26.764151Z",
     "shell.execute_reply": "2025-07-24T02:45:26.763415Z"
    },
    "papermill": {
     "duration": 2.490447,
     "end_time": "2025-07-24T02:45:26.765391",
     "exception": false,
     "start_time": "2025-07-24T02:45:24.274944",
     "status": "completed"
    },
    "tags": []
   },
   "outputs": [
    {
     "data": {
      "application/vnd.jupyter.widget-view+json": {
       "model_id": "abaf040dde5d4dbab555c06c4a42637c",
       "version_major": 2,
       "version_minor": 0
      },
      "text/plain": [
       "Map:   0%|          | 0/3 [00:00<?, ? examples/s]"
      ]
     },
     "metadata": {},
     "output_type": "display_data"
    },
    {
     "data": {
      "text/html": [],
      "text/plain": [
       "<IPython.core.display.HTML object>"
      ]
     },
     "metadata": {},
     "output_type": "display_data"
    }
   ],
   "source": [
    "ds_test = Dataset.from_pandas(test[['text']])\n",
    "ds_test = ds_test.map(tokenize, batched=True)\n",
    "\n",
    "predictions = trainer.predict(ds_test)\n",
    "probs = torch.nn.functional.softmax(torch.tensor(predictions.predictions), dim=1).numpy()"
   ]
  },
  {
   "cell_type": "markdown",
   "id": "aff395a7",
   "metadata": {
    "papermill": {
     "duration": 0.012094,
     "end_time": "2025-07-24T02:45:26.790780",
     "exception": false,
     "start_time": "2025-07-24T02:45:26.778686",
     "status": "completed"
    },
    "tags": []
   },
   "source": [
    "# Create Submission CSV\n",
    "We create submission.csv by converting our top3 test preds into their class names"
   ]
  },
  {
   "cell_type": "code",
   "execution_count": 20,
   "id": "ec7e0490",
   "metadata": {
    "execution": {
     "iopub.execute_input": "2025-07-24T02:45:26.815585Z",
     "iopub.status.busy": "2025-07-24T02:45:26.815383Z",
     "iopub.status.idle": "2025-07-24T02:45:26.829234Z",
     "shell.execute_reply": "2025-07-24T02:45:26.828655Z"
    },
    "papermill": {
     "duration": 0.027545,
     "end_time": "2025-07-24T02:45:26.830314",
     "exception": false,
     "start_time": "2025-07-24T02:45:26.802769",
     "status": "completed"
    },
    "tags": []
   },
   "outputs": [
    {
     "data": {
      "text/html": [
       "<div>\n",
       "<style scoped>\n",
       "    .dataframe tbody tr th:only-of-type {\n",
       "        vertical-align: middle;\n",
       "    }\n",
       "\n",
       "    .dataframe tbody tr th {\n",
       "        vertical-align: top;\n",
       "    }\n",
       "\n",
       "    .dataframe thead th {\n",
       "        text-align: right;\n",
       "    }\n",
       "</style>\n",
       "<table border=\"1\" class=\"dataframe\">\n",
       "  <thead>\n",
       "    <tr style=\"text-align: right;\">\n",
       "      <th></th>\n",
       "      <th>row_id</th>\n",
       "      <th>Category:Misconception</th>\n",
       "    </tr>\n",
       "  </thead>\n",
       "  <tbody>\n",
       "    <tr>\n",
       "      <th>0</th>\n",
       "      <td>36696</td>\n",
       "      <td>True_Correct:NA True_Neither:NA True_Misconcep...</td>\n",
       "    </tr>\n",
       "    <tr>\n",
       "      <th>1</th>\n",
       "      <td>36697</td>\n",
       "      <td>False_Misconception:WNB False_Neither:NA True_...</td>\n",
       "    </tr>\n",
       "    <tr>\n",
       "      <th>2</th>\n",
       "      <td>36698</td>\n",
       "      <td>True_Neither:NA True_Correct:NA True_Misconcep...</td>\n",
       "    </tr>\n",
       "  </tbody>\n",
       "</table>\n",
       "</div>"
      ],
      "text/plain": [
       "   row_id                             Category:Misconception\n",
       "0   36696  True_Correct:NA True_Neither:NA True_Misconcep...\n",
       "1   36697  False_Misconception:WNB False_Neither:NA True_...\n",
       "2   36698  True_Neither:NA True_Correct:NA True_Misconcep..."
      ]
     },
     "execution_count": 20,
     "metadata": {},
     "output_type": "execute_result"
    }
   ],
   "source": [
    "# Get top 3 predicted class indices\n",
    "top3 = np.argsort(-probs, axis=1)[:, :3]   # shape: [num_samples, 3]\n",
    "\n",
    "# Decode numeric class indices to original string labels\n",
    "flat_top3 = top3.flatten()\n",
    "decoded_labels = le.inverse_transform(flat_top3)\n",
    "top3_labels = decoded_labels.reshape(top3.shape)\n",
    "\n",
    "# Join 3 labels per row with space\n",
    "joined_preds = [\" \".join(row) for row in top3_labels]\n",
    "\n",
    "# Save submission\n",
    "sub = pd.DataFrame({\n",
    "    \"row_id\": test.row_id.values,\n",
    "    \"Category:Misconception\": joined_preds\n",
    "})\n",
    "sub.to_csv(\"submission.csv\", index=False)\n",
    "sub.head()"
   ]
  }
 ],
 "metadata": {
  "kaggle": {
   "accelerator": "nvidiaTeslaT4",
   "dataSources": [
    {
     "databundleVersionId": 12957508,
     "isSourceIdPinned": false,
     "sourceId": 104383,
     "sourceType": "competition"
    },
    {
     "datasetId": 7930680,
     "sourceId": 12559632,
     "sourceType": "datasetVersion"
    },
    {
     "datasetId": 7930694,
     "sourceId": 12559652,
     "sourceType": "datasetVersion"
    }
   ],
   "dockerImageVersionId": 31090,
   "isGpuEnabled": true,
   "isInternetEnabled": false,
   "language": "python",
   "sourceType": "notebook"
  },
  "kernelspec": {
   "display_name": "Python 3",
   "language": "python",
   "name": "python3"
  },
  "language_info": {
   "codemirror_mode": {
    "name": "ipython",
    "version": 3
   },
   "file_extension": ".py",
   "mimetype": "text/x-python",
   "name": "python",
   "nbconvert_exporter": "python",
   "pygments_lexer": "ipython3",
   "version": "3.11.13"
  },
  "papermill": {
   "default_parameters": {},
   "duration": 165.271489,
   "end_time": "2025-07-24T02:45:29.673100",
   "environment_variables": {},
   "exception": null,
   "input_path": "__notebook__.ipynb",
   "output_path": "__notebook__.ipynb",
   "parameters": {},
   "start_time": "2025-07-24T02:42:44.401611",
   "version": "2.6.0"
  },
  "widgets": {
   "application/vnd.jupyter.widget-state+json": {
    "state": {
     "00604f59c2ec404c838b5836e7510479": {
      "model_module": "@jupyter-widgets/base",
      "model_module_version": "2.0.0",
      "model_name": "LayoutModel",
      "state": {
       "_model_module": "@jupyter-widgets/base",
       "_model_module_version": "2.0.0",
       "_model_name": "LayoutModel",
       "_view_count": null,
       "_view_module": "@jupyter-widgets/base",
       "_view_module_version": "2.0.0",
       "_view_name": "LayoutView",
       "align_content": null,
       "align_items": null,
       "align_self": null,
       "border_bottom": null,
       "border_left": null,
       "border_right": null,
       "border_top": null,
       "bottom": null,
       "display": null,
       "flex": null,
       "flex_flow": null,
       "grid_area": null,
       "grid_auto_columns": null,
       "grid_auto_flow": null,
       "grid_auto_rows": null,
       "grid_column": null,
       "grid_gap": null,
       "grid_row": null,
       "grid_template_areas": null,
       "grid_template_columns": null,
       "grid_template_rows": null,
       "height": null,
       "justify_content": null,
       "justify_items": null,
       "left": null,
       "margin": null,
       "max_height": null,
       "max_width": null,
       "min_height": null,
       "min_width": null,
       "object_fit": null,
       "object_position": null,
       "order": null,
       "overflow": null,
       "padding": null,
       "right": null,
       "top": null,
       "visibility": null,
       "width": null
      }
     },
     "055d5cd1dd744f2ab3976653dd336fec": {
      "model_module": "@jupyter-widgets/controls",
      "model_module_version": "2.0.0",
      "model_name": "HTMLModel",
      "state": {
       "_dom_classes": [],
       "_model_module": "@jupyter-widgets/controls",
       "_model_module_version": "2.0.0",
       "_model_name": "HTMLModel",
       "_view_count": null,
       "_view_module": "@jupyter-widgets/controls",
       "_view_module_version": "2.0.0",
       "_view_name": "HTMLView",
       "description": "",
       "description_allow_html": false,
       "layout": "IPY_MODEL_502c71fc1cf948f98aa8dfafac673207",
       "placeholder": "​",
       "style": "IPY_MODEL_5756d91b6bf7423f81931feeac10bb53",
       "tabbable": null,
       "tooltip": null,
       "value": " 3/3 [00:00&lt;00:00, 225.20 examples/s]"
      }
     },
     "0b79a993a57b4ad3b644e76d8d2d355e": {
      "model_module": "@jupyter-widgets/base",
      "model_module_version": "2.0.0",
      "model_name": "LayoutModel",
      "state": {
       "_model_module": "@jupyter-widgets/base",
       "_model_module_version": "2.0.0",
       "_model_name": "LayoutModel",
       "_view_count": null,
       "_view_module": "@jupyter-widgets/base",
       "_view_module_version": "2.0.0",
       "_view_name": "LayoutView",
       "align_content": null,
       "align_items": null,
       "align_self": null,
       "border_bottom": null,
       "border_left": null,
       "border_right": null,
       "border_top": null,
       "bottom": null,
       "display": null,
       "flex": null,
       "flex_flow": null,
       "grid_area": null,
       "grid_auto_columns": null,
       "grid_auto_flow": null,
       "grid_auto_rows": null,
       "grid_column": null,
       "grid_gap": null,
       "grid_row": null,
       "grid_template_areas": null,
       "grid_template_columns": null,
       "grid_template_rows": null,
       "height": null,
       "justify_content": null,
       "justify_items": null,
       "left": null,
       "margin": null,
       "max_height": null,
       "max_width": null,
       "min_height": null,
       "min_width": null,
       "object_fit": null,
       "object_position": null,
       "order": null,
       "overflow": null,
       "padding": null,
       "right": null,
       "top": null,
       "visibility": null,
       "width": null
      }
     },
     "0e081d5790d644ad957ce17ea2c6e7b7": {
      "model_module": "@jupyter-widgets/base",
      "model_module_version": "2.0.0",
      "model_name": "LayoutModel",
      "state": {
       "_model_module": "@jupyter-widgets/base",
       "_model_module_version": "2.0.0",
       "_model_name": "LayoutModel",
       "_view_count": null,
       "_view_module": "@jupyter-widgets/base",
       "_view_module_version": "2.0.0",
       "_view_name": "LayoutView",
       "align_content": null,
       "align_items": null,
       "align_self": null,
       "border_bottom": null,
       "border_left": null,
       "border_right": null,
       "border_top": null,
       "bottom": null,
       "display": null,
       "flex": null,
       "flex_flow": null,
       "grid_area": null,
       "grid_auto_columns": null,
       "grid_auto_flow": null,
       "grid_auto_rows": null,
       "grid_column": null,
       "grid_gap": null,
       "grid_row": null,
       "grid_template_areas": null,
       "grid_template_columns": null,
       "grid_template_rows": null,
       "height": null,
       "justify_content": null,
       "justify_items": null,
       "left": null,
       "margin": null,
       "max_height": null,
       "max_width": null,
       "min_height": null,
       "min_width": null,
       "object_fit": null,
       "object_position": null,
       "order": null,
       "overflow": null,
       "padding": null,
       "right": null,
       "top": null,
       "visibility": null,
       "width": null
      }
     },
     "0e88687a9e404430a1c0faf594c54522": {
      "model_module": "@jupyter-widgets/controls",
      "model_module_version": "2.0.0",
      "model_name": "HTMLStyleModel",
      "state": {
       "_model_module": "@jupyter-widgets/controls",
       "_model_module_version": "2.0.0",
       "_model_name": "HTMLStyleModel",
       "_view_count": null,
       "_view_module": "@jupyter-widgets/base",
       "_view_module_version": "2.0.0",
       "_view_name": "StyleView",
       "background": null,
       "description_width": "",
       "font_size": null,
       "text_color": null
      }
     },
     "14e13f34014546c68c37ff44fb027252": {
      "model_module": "@jupyter-widgets/base",
      "model_module_version": "2.0.0",
      "model_name": "LayoutModel",
      "state": {
       "_model_module": "@jupyter-widgets/base",
       "_model_module_version": "2.0.0",
       "_model_name": "LayoutModel",
       "_view_count": null,
       "_view_module": "@jupyter-widgets/base",
       "_view_module_version": "2.0.0",
       "_view_name": "LayoutView",
       "align_content": null,
       "align_items": null,
       "align_self": null,
       "border_bottom": null,
       "border_left": null,
       "border_right": null,
       "border_top": null,
       "bottom": null,
       "display": null,
       "flex": null,
       "flex_flow": null,
       "grid_area": null,
       "grid_auto_columns": null,
       "grid_auto_flow": null,
       "grid_auto_rows": null,
       "grid_column": null,
       "grid_gap": null,
       "grid_row": null,
       "grid_template_areas": null,
       "grid_template_columns": null,
       "grid_template_rows": null,
       "height": null,
       "justify_content": null,
       "justify_items": null,
       "left": null,
       "margin": null,
       "max_height": null,
       "max_width": null,
       "min_height": null,
       "min_width": null,
       "object_fit": null,
       "object_position": null,
       "order": null,
       "overflow": null,
       "padding": null,
       "right": null,
       "top": null,
       "visibility": null,
       "width": null
      }
     },
     "172e3ad2d050456a87dc607914e7233c": {
      "model_module": "@jupyter-widgets/controls",
      "model_module_version": "2.0.0",
      "model_name": "HBoxModel",
      "state": {
       "_dom_classes": [],
       "_model_module": "@jupyter-widgets/controls",
       "_model_module_version": "2.0.0",
       "_model_name": "HBoxModel",
       "_view_count": null,
       "_view_module": "@jupyter-widgets/controls",
       "_view_module_version": "2.0.0",
       "_view_name": "HBoxView",
       "box_style": "",
       "children": [
        "IPY_MODEL_be2adfc8401241988f371fc92457da8e",
        "IPY_MODEL_449b9ab640be40c4abea1600de0819a2",
        "IPY_MODEL_b43449418f174d2e8d389a8fecafc900"
       ],
       "layout": "IPY_MODEL_7c749fb62e7d4aa481fe347adae8b2a4",
       "tabbable": null,
       "tooltip": null
      }
     },
     "1a29fc378a11423ebcef109c31f2a9fb": {
      "model_module": "@jupyter-widgets/controls",
      "model_module_version": "2.0.0",
      "model_name": "HTMLStyleModel",
      "state": {
       "_model_module": "@jupyter-widgets/controls",
       "_model_module_version": "2.0.0",
       "_model_name": "HTMLStyleModel",
       "_view_count": null,
       "_view_module": "@jupyter-widgets/base",
       "_view_module_version": "2.0.0",
       "_view_name": "StyleView",
       "background": null,
       "description_width": "",
       "font_size": null,
       "text_color": null
      }
     },
     "21928200d9514f19b7fa3aa85805c6d4": {
      "model_module": "@jupyter-widgets/controls",
      "model_module_version": "2.0.0",
      "model_name": "HBoxModel",
      "state": {
       "_dom_classes": [],
       "_model_module": "@jupyter-widgets/controls",
       "_model_module_version": "2.0.0",
       "_model_name": "HBoxModel",
       "_view_count": null,
       "_view_module": "@jupyter-widgets/controls",
       "_view_module_version": "2.0.0",
       "_view_name": "HBoxView",
       "box_style": "",
       "children": [
        "IPY_MODEL_98701e012eea46628d3413083e9c2a23",
        "IPY_MODEL_8614ea8af19c47d8af38bde432ce10b4",
        "IPY_MODEL_8ab1209d8b97448f85900e5b02b5b248"
       ],
       "layout": "IPY_MODEL_ea220c24ebaf45abae91147e549bc4b8",
       "tabbable": null,
       "tooltip": null
      }
     },
     "21bb46c9fe914f828a2f6e202901086d": {
      "model_module": "@jupyter-widgets/base",
      "model_module_version": "2.0.0",
      "model_name": "LayoutModel",
      "state": {
       "_model_module": "@jupyter-widgets/base",
       "_model_module_version": "2.0.0",
       "_model_name": "LayoutModel",
       "_view_count": null,
       "_view_module": "@jupyter-widgets/base",
       "_view_module_version": "2.0.0",
       "_view_name": "LayoutView",
       "align_content": null,
       "align_items": null,
       "align_self": null,
       "border_bottom": null,
       "border_left": null,
       "border_right": null,
       "border_top": null,
       "bottom": null,
       "display": null,
       "flex": null,
       "flex_flow": null,
       "grid_area": null,
       "grid_auto_columns": null,
       "grid_auto_flow": null,
       "grid_auto_rows": null,
       "grid_column": null,
       "grid_gap": null,
       "grid_row": null,
       "grid_template_areas": null,
       "grid_template_columns": null,
       "grid_template_rows": null,
       "height": null,
       "justify_content": null,
       "justify_items": null,
       "left": null,
       "margin": null,
       "max_height": null,
       "max_width": null,
       "min_height": null,
       "min_width": null,
       "object_fit": null,
       "object_position": null,
       "order": null,
       "overflow": null,
       "padding": null,
       "right": null,
       "top": null,
       "visibility": null,
       "width": null
      }
     },
     "22004ab9363c4b7d8f3a298facfadc5f": {
      "model_module": "@jupyter-widgets/base",
      "model_module_version": "2.0.0",
      "model_name": "LayoutModel",
      "state": {
       "_model_module": "@jupyter-widgets/base",
       "_model_module_version": "2.0.0",
       "_model_name": "LayoutModel",
       "_view_count": null,
       "_view_module": "@jupyter-widgets/base",
       "_view_module_version": "2.0.0",
       "_view_name": "LayoutView",
       "align_content": null,
       "align_items": null,
       "align_self": null,
       "border_bottom": null,
       "border_left": null,
       "border_right": null,
       "border_top": null,
       "bottom": null,
       "display": null,
       "flex": null,
       "flex_flow": null,
       "grid_area": null,
       "grid_auto_columns": null,
       "grid_auto_flow": null,
       "grid_auto_rows": null,
       "grid_column": null,
       "grid_gap": null,
       "grid_row": null,
       "grid_template_areas": null,
       "grid_template_columns": null,
       "grid_template_rows": null,
       "height": null,
       "justify_content": null,
       "justify_items": null,
       "left": null,
       "margin": null,
       "max_height": null,
       "max_width": null,
       "min_height": null,
       "min_width": null,
       "object_fit": null,
       "object_position": null,
       "order": null,
       "overflow": null,
       "padding": null,
       "right": null,
       "top": null,
       "visibility": null,
       "width": null
      }
     },
     "2bef3319b15e4bb186e82f14d5000d17": {
      "model_module": "@jupyter-widgets/controls",
      "model_module_version": "2.0.0",
      "model_name": "ProgressStyleModel",
      "state": {
       "_model_module": "@jupyter-widgets/controls",
       "_model_module_version": "2.0.0",
       "_model_name": "ProgressStyleModel",
       "_view_count": null,
       "_view_module": "@jupyter-widgets/base",
       "_view_module_version": "2.0.0",
       "_view_name": "StyleView",
       "bar_color": null,
       "description_width": ""
      }
     },
     "3362284ab78e4abf9d8321734ceaef98": {
      "model_module": "@jupyter-widgets/base",
      "model_module_version": "2.0.0",
      "model_name": "LayoutModel",
      "state": {
       "_model_module": "@jupyter-widgets/base",
       "_model_module_version": "2.0.0",
       "_model_name": "LayoutModel",
       "_view_count": null,
       "_view_module": "@jupyter-widgets/base",
       "_view_module_version": "2.0.0",
       "_view_name": "LayoutView",
       "align_content": null,
       "align_items": null,
       "align_self": null,
       "border_bottom": null,
       "border_left": null,
       "border_right": null,
       "border_top": null,
       "bottom": null,
       "display": null,
       "flex": null,
       "flex_flow": null,
       "grid_area": null,
       "grid_auto_columns": null,
       "grid_auto_flow": null,
       "grid_auto_rows": null,
       "grid_column": null,
       "grid_gap": null,
       "grid_row": null,
       "grid_template_areas": null,
       "grid_template_columns": null,
       "grid_template_rows": null,
       "height": null,
       "justify_content": null,
       "justify_items": null,
       "left": null,
       "margin": null,
       "max_height": null,
       "max_width": null,
       "min_height": null,
       "min_width": null,
       "object_fit": null,
       "object_position": null,
       "order": null,
       "overflow": null,
       "padding": null,
       "right": null,
       "top": null,
       "visibility": null,
       "width": null
      }
     },
     "350e2f2bdce34ca2905fb39ddd49ad59": {
      "model_module": "@jupyter-widgets/base",
      "model_module_version": "2.0.0",
      "model_name": "LayoutModel",
      "state": {
       "_model_module": "@jupyter-widgets/base",
       "_model_module_version": "2.0.0",
       "_model_name": "LayoutModel",
       "_view_count": null,
       "_view_module": "@jupyter-widgets/base",
       "_view_module_version": "2.0.0",
       "_view_name": "LayoutView",
       "align_content": null,
       "align_items": null,
       "align_self": null,
       "border_bottom": null,
       "border_left": null,
       "border_right": null,
       "border_top": null,
       "bottom": null,
       "display": null,
       "flex": null,
       "flex_flow": null,
       "grid_area": null,
       "grid_auto_columns": null,
       "grid_auto_flow": null,
       "grid_auto_rows": null,
       "grid_column": null,
       "grid_gap": null,
       "grid_row": null,
       "grid_template_areas": null,
       "grid_template_columns": null,
       "grid_template_rows": null,
       "height": null,
       "justify_content": null,
       "justify_items": null,
       "left": null,
       "margin": null,
       "max_height": null,
       "max_width": null,
       "min_height": null,
       "min_width": null,
       "object_fit": null,
       "object_position": null,
       "order": null,
       "overflow": null,
       "padding": null,
       "right": null,
       "top": null,
       "visibility": null,
       "width": null
      }
     },
     "40fad7ec87da469dac91f8252baf2d2d": {
      "model_module": "@jupyter-widgets/controls",
      "model_module_version": "2.0.0",
      "model_name": "HBoxModel",
      "state": {
       "_dom_classes": [],
       "_model_module": "@jupyter-widgets/controls",
       "_model_module_version": "2.0.0",
       "_model_name": "HBoxModel",
       "_view_count": null,
       "_view_module": "@jupyter-widgets/controls",
       "_view_module_version": "2.0.0",
       "_view_name": "HBoxView",
       "box_style": "",
       "children": [
        "IPY_MODEL_989813493e744995aa19d52d0cae8aae",
        "IPY_MODEL_ceffaa9319284af3a72f5bacf6048d4b",
        "IPY_MODEL_e320d1b091ca4bf68223c4b9e6d43963"
       ],
       "layout": "IPY_MODEL_6cabc0c15b5a44fc971c8c0bb8c2b841",
       "tabbable": null,
       "tooltip": null
      }
     },
     "449b9ab640be40c4abea1600de0819a2": {
      "model_module": "@jupyter-widgets/controls",
      "model_module_version": "2.0.0",
      "model_name": "FloatProgressModel",
      "state": {
       "_dom_classes": [],
       "_model_module": "@jupyter-widgets/controls",
       "_model_module_version": "2.0.0",
       "_model_name": "FloatProgressModel",
       "_view_count": null,
       "_view_module": "@jupyter-widgets/controls",
       "_view_module_version": "2.0.0",
       "_view_name": "ProgressView",
       "bar_style": "success",
       "description": "",
       "description_allow_html": false,
       "layout": "IPY_MODEL_00604f59c2ec404c838b5836e7510479",
       "max": 29356.0,
       "min": 0.0,
       "orientation": "horizontal",
       "style": "IPY_MODEL_90203d82f8a34309a97b1ab6eb16d5c0",
       "tabbable": null,
       "tooltip": null,
       "value": 29356.0
      }
     },
     "4f26d12a3a954535a0a185c5241b7bdf": {
      "model_module": "@jupyter-widgets/base",
      "model_module_version": "2.0.0",
      "model_name": "LayoutModel",
      "state": {
       "_model_module": "@jupyter-widgets/base",
       "_model_module_version": "2.0.0",
       "_model_name": "LayoutModel",
       "_view_count": null,
       "_view_module": "@jupyter-widgets/base",
       "_view_module_version": "2.0.0",
       "_view_name": "LayoutView",
       "align_content": null,
       "align_items": null,
       "align_self": null,
       "border_bottom": null,
       "border_left": null,
       "border_right": null,
       "border_top": null,
       "bottom": null,
       "display": null,
       "flex": null,
       "flex_flow": null,
       "grid_area": null,
       "grid_auto_columns": null,
       "grid_auto_flow": null,
       "grid_auto_rows": null,
       "grid_column": null,
       "grid_gap": null,
       "grid_row": null,
       "grid_template_areas": null,
       "grid_template_columns": null,
       "grid_template_rows": null,
       "height": null,
       "justify_content": null,
       "justify_items": null,
       "left": null,
       "margin": null,
       "max_height": null,
       "max_width": null,
       "min_height": null,
       "min_width": null,
       "object_fit": null,
       "object_position": null,
       "order": null,
       "overflow": null,
       "padding": null,
       "right": null,
       "top": null,
       "visibility": null,
       "width": null
      }
     },
     "502c71fc1cf948f98aa8dfafac673207": {
      "model_module": "@jupyter-widgets/base",
      "model_module_version": "2.0.0",
      "model_name": "LayoutModel",
      "state": {
       "_model_module": "@jupyter-widgets/base",
       "_model_module_version": "2.0.0",
       "_model_name": "LayoutModel",
       "_view_count": null,
       "_view_module": "@jupyter-widgets/base",
       "_view_module_version": "2.0.0",
       "_view_name": "LayoutView",
       "align_content": null,
       "align_items": null,
       "align_self": null,
       "border_bottom": null,
       "border_left": null,
       "border_right": null,
       "border_top": null,
       "bottom": null,
       "display": null,
       "flex": null,
       "flex_flow": null,
       "grid_area": null,
       "grid_auto_columns": null,
       "grid_auto_flow": null,
       "grid_auto_rows": null,
       "grid_column": null,
       "grid_gap": null,
       "grid_row": null,
       "grid_template_areas": null,
       "grid_template_columns": null,
       "grid_template_rows": null,
       "height": null,
       "justify_content": null,
       "justify_items": null,
       "left": null,
       "margin": null,
       "max_height": null,
       "max_width": null,
       "min_height": null,
       "min_width": null,
       "object_fit": null,
       "object_position": null,
       "order": null,
       "overflow": null,
       "padding": null,
       "right": null,
       "top": null,
       "visibility": null,
       "width": null
      }
     },
     "531469e5143d4698a3e5039590a3ac70": {
      "model_module": "@jupyter-widgets/base",
      "model_module_version": "2.0.0",
      "model_name": "LayoutModel",
      "state": {
       "_model_module": "@jupyter-widgets/base",
       "_model_module_version": "2.0.0",
       "_model_name": "LayoutModel",
       "_view_count": null,
       "_view_module": "@jupyter-widgets/base",
       "_view_module_version": "2.0.0",
       "_view_name": "LayoutView",
       "align_content": null,
       "align_items": null,
       "align_self": null,
       "border_bottom": null,
       "border_left": null,
       "border_right": null,
       "border_top": null,
       "bottom": null,
       "display": null,
       "flex": null,
       "flex_flow": null,
       "grid_area": null,
       "grid_auto_columns": null,
       "grid_auto_flow": null,
       "grid_auto_rows": null,
       "grid_column": null,
       "grid_gap": null,
       "grid_row": null,
       "grid_template_areas": null,
       "grid_template_columns": null,
       "grid_template_rows": null,
       "height": null,
       "justify_content": null,
       "justify_items": null,
       "left": null,
       "margin": null,
       "max_height": null,
       "max_width": null,
       "min_height": null,
       "min_width": null,
       "object_fit": null,
       "object_position": null,
       "order": null,
       "overflow": null,
       "padding": null,
       "right": null,
       "top": null,
       "visibility": null,
       "width": null
      }
     },
     "5756d91b6bf7423f81931feeac10bb53": {
      "model_module": "@jupyter-widgets/controls",
      "model_module_version": "2.0.0",
      "model_name": "HTMLStyleModel",
      "state": {
       "_model_module": "@jupyter-widgets/controls",
       "_model_module_version": "2.0.0",
       "_model_name": "HTMLStyleModel",
       "_view_count": null,
       "_view_module": "@jupyter-widgets/base",
       "_view_module_version": "2.0.0",
       "_view_name": "StyleView",
       "background": null,
       "description_width": "",
       "font_size": null,
       "text_color": null
      }
     },
     "5aa95b2b9b9649ad97775784ab82fa2d": {
      "model_module": "@jupyter-widgets/controls",
      "model_module_version": "2.0.0",
      "model_name": "HTMLStyleModel",
      "state": {
       "_model_module": "@jupyter-widgets/controls",
       "_model_module_version": "2.0.0",
       "_model_name": "HTMLStyleModel",
       "_view_count": null,
       "_view_module": "@jupyter-widgets/base",
       "_view_module_version": "2.0.0",
       "_view_name": "StyleView",
       "background": null,
       "description_width": "",
       "font_size": null,
       "text_color": null
      }
     },
     "66a1e437e8fd44b6b19c57a42e204752": {
      "model_module": "@jupyter-widgets/base",
      "model_module_version": "2.0.0",
      "model_name": "LayoutModel",
      "state": {
       "_model_module": "@jupyter-widgets/base",
       "_model_module_version": "2.0.0",
       "_model_name": "LayoutModel",
       "_view_count": null,
       "_view_module": "@jupyter-widgets/base",
       "_view_module_version": "2.0.0",
       "_view_name": "LayoutView",
       "align_content": null,
       "align_items": null,
       "align_self": null,
       "border_bottom": null,
       "border_left": null,
       "border_right": null,
       "border_top": null,
       "bottom": null,
       "display": null,
       "flex": null,
       "flex_flow": null,
       "grid_area": null,
       "grid_auto_columns": null,
       "grid_auto_flow": null,
       "grid_auto_rows": null,
       "grid_column": null,
       "grid_gap": null,
       "grid_row": null,
       "grid_template_areas": null,
       "grid_template_columns": null,
       "grid_template_rows": null,
       "height": null,
       "justify_content": null,
       "justify_items": null,
       "left": null,
       "margin": null,
       "max_height": null,
       "max_width": null,
       "min_height": null,
       "min_width": null,
       "object_fit": null,
       "object_position": null,
       "order": null,
       "overflow": null,
       "padding": null,
       "right": null,
       "top": null,
       "visibility": null,
       "width": null
      }
     },
     "6cabc0c15b5a44fc971c8c0bb8c2b841": {
      "model_module": "@jupyter-widgets/base",
      "model_module_version": "2.0.0",
      "model_name": "LayoutModel",
      "state": {
       "_model_module": "@jupyter-widgets/base",
       "_model_module_version": "2.0.0",
       "_model_name": "LayoutModel",
       "_view_count": null,
       "_view_module": "@jupyter-widgets/base",
       "_view_module_version": "2.0.0",
       "_view_name": "LayoutView",
       "align_content": null,
       "align_items": null,
       "align_self": null,
       "border_bottom": null,
       "border_left": null,
       "border_right": null,
       "border_top": null,
       "bottom": null,
       "display": null,
       "flex": null,
       "flex_flow": null,
       "grid_area": null,
       "grid_auto_columns": null,
       "grid_auto_flow": null,
       "grid_auto_rows": null,
       "grid_column": null,
       "grid_gap": null,
       "grid_row": null,
       "grid_template_areas": null,
       "grid_template_columns": null,
       "grid_template_rows": null,
       "height": null,
       "justify_content": null,
       "justify_items": null,
       "left": null,
       "margin": null,
       "max_height": null,
       "max_width": null,
       "min_height": null,
       "min_width": null,
       "object_fit": null,
       "object_position": null,
       "order": null,
       "overflow": null,
       "padding": null,
       "right": null,
       "top": null,
       "visibility": null,
       "width": null
      }
     },
     "77538b5e23894f928a186c03986ffb9e": {
      "model_module": "@jupyter-widgets/controls",
      "model_module_version": "2.0.0",
      "model_name": "FloatProgressModel",
      "state": {
       "_dom_classes": [],
       "_model_module": "@jupyter-widgets/controls",
       "_model_module_version": "2.0.0",
       "_model_name": "FloatProgressModel",
       "_view_count": null,
       "_view_module": "@jupyter-widgets/controls",
       "_view_module_version": "2.0.0",
       "_view_name": "ProgressView",
       "bar_style": "success",
       "description": "",
       "description_allow_html": false,
       "layout": "IPY_MODEL_22004ab9363c4b7d8f3a298facfadc5f",
       "max": 3.0,
       "min": 0.0,
       "orientation": "horizontal",
       "style": "IPY_MODEL_2bef3319b15e4bb186e82f14d5000d17",
       "tabbable": null,
       "tooltip": null,
       "value": 3.0
      }
     },
     "7c749fb62e7d4aa481fe347adae8b2a4": {
      "model_module": "@jupyter-widgets/base",
      "model_module_version": "2.0.0",
      "model_name": "LayoutModel",
      "state": {
       "_model_module": "@jupyter-widgets/base",
       "_model_module_version": "2.0.0",
       "_model_name": "LayoutModel",
       "_view_count": null,
       "_view_module": "@jupyter-widgets/base",
       "_view_module_version": "2.0.0",
       "_view_name": "LayoutView",
       "align_content": null,
       "align_items": null,
       "align_self": null,
       "border_bottom": null,
       "border_left": null,
       "border_right": null,
       "border_top": null,
       "bottom": null,
       "display": null,
       "flex": null,
       "flex_flow": null,
       "grid_area": null,
       "grid_auto_columns": null,
       "grid_auto_flow": null,
       "grid_auto_rows": null,
       "grid_column": null,
       "grid_gap": null,
       "grid_row": null,
       "grid_template_areas": null,
       "grid_template_columns": null,
       "grid_template_rows": null,
       "height": null,
       "justify_content": null,
       "justify_items": null,
       "left": null,
       "margin": null,
       "max_height": null,
       "max_width": null,
       "min_height": null,
       "min_width": null,
       "object_fit": null,
       "object_position": null,
       "order": null,
       "overflow": null,
       "padding": null,
       "right": null,
       "top": null,
       "visibility": null,
       "width": null
      }
     },
     "7eafb3ccb4d2422298d778b31e6e48e9": {
      "model_module": "@jupyter-widgets/controls",
      "model_module_version": "2.0.0",
      "model_name": "HTMLModel",
      "state": {
       "_dom_classes": [],
       "_model_module": "@jupyter-widgets/controls",
       "_model_module_version": "2.0.0",
       "_model_name": "HTMLModel",
       "_view_count": null,
       "_view_module": "@jupyter-widgets/controls",
       "_view_module_version": "2.0.0",
       "_view_name": "HTMLView",
       "description": "",
       "description_allow_html": false,
       "layout": "IPY_MODEL_531469e5143d4698a3e5039590a3ac70",
       "placeholder": "​",
       "style": "IPY_MODEL_1a29fc378a11423ebcef109c31f2a9fb",
       "tabbable": null,
       "tooltip": null,
       "value": "Map: 100%"
      }
     },
     "8614ea8af19c47d8af38bde432ce10b4": {
      "model_module": "@jupyter-widgets/controls",
      "model_module_version": "2.0.0",
      "model_name": "FloatProgressModel",
      "state": {
       "_dom_classes": [],
       "_model_module": "@jupyter-widgets/controls",
       "_model_module_version": "2.0.0",
       "_model_name": "FloatProgressModel",
       "_view_count": null,
       "_view_module": "@jupyter-widgets/controls",
       "_view_module_version": "2.0.0",
       "_view_name": "ProgressView",
       "bar_style": "success",
       "description": "",
       "description_allow_html": false,
       "layout": "IPY_MODEL_0b79a993a57b4ad3b644e76d8d2d355e",
       "max": 7340.0,
       "min": 0.0,
       "orientation": "horizontal",
       "style": "IPY_MODEL_b1139dbbfec140399be77986bf6d0f2d",
       "tabbable": null,
       "tooltip": null,
       "value": 7340.0
      }
     },
     "8ab1209d8b97448f85900e5b02b5b248": {
      "model_module": "@jupyter-widgets/controls",
      "model_module_version": "2.0.0",
      "model_name": "HTMLModel",
      "state": {
       "_dom_classes": [],
       "_model_module": "@jupyter-widgets/controls",
       "_model_module_version": "2.0.0",
       "_model_name": "HTMLModel",
       "_view_count": null,
       "_view_module": "@jupyter-widgets/controls",
       "_view_module_version": "2.0.0",
       "_view_name": "HTMLView",
       "description": "",
       "description_allow_html": false,
       "layout": "IPY_MODEL_3362284ab78e4abf9d8321734ceaef98",
       "placeholder": "​",
       "style": "IPY_MODEL_5aa95b2b9b9649ad97775784ab82fa2d",
       "tabbable": null,
       "tooltip": null,
       "value": " 7340/7340 [00:01&lt;00:00, 7386.64 examples/s]"
      }
     },
     "90203d82f8a34309a97b1ab6eb16d5c0": {
      "model_module": "@jupyter-widgets/controls",
      "model_module_version": "2.0.0",
      "model_name": "ProgressStyleModel",
      "state": {
       "_model_module": "@jupyter-widgets/controls",
       "_model_module_version": "2.0.0",
       "_model_name": "ProgressStyleModel",
       "_view_count": null,
       "_view_module": "@jupyter-widgets/base",
       "_view_module_version": "2.0.0",
       "_view_name": "StyleView",
       "bar_color": null,
       "description_width": ""
      }
     },
     "98701e012eea46628d3413083e9c2a23": {
      "model_module": "@jupyter-widgets/controls",
      "model_module_version": "2.0.0",
      "model_name": "HTMLModel",
      "state": {
       "_dom_classes": [],
       "_model_module": "@jupyter-widgets/controls",
       "_model_module_version": "2.0.0",
       "_model_name": "HTMLModel",
       "_view_count": null,
       "_view_module": "@jupyter-widgets/controls",
       "_view_module_version": "2.0.0",
       "_view_name": "HTMLView",
       "description": "",
       "description_allow_html": false,
       "layout": "IPY_MODEL_0e081d5790d644ad957ce17ea2c6e7b7",
       "placeholder": "​",
       "style": "IPY_MODEL_f8552bc84f014ef68736665b14231e64",
       "tabbable": null,
       "tooltip": null,
       "value": "Map: 100%"
      }
     },
     "989813493e744995aa19d52d0cae8aae": {
      "model_module": "@jupyter-widgets/controls",
      "model_module_version": "2.0.0",
      "model_name": "HTMLModel",
      "state": {
       "_dom_classes": [],
       "_model_module": "@jupyter-widgets/controls",
       "_model_module_version": "2.0.0",
       "_model_name": "HTMLModel",
       "_view_count": null,
       "_view_module": "@jupyter-widgets/controls",
       "_view_module_version": "2.0.0",
       "_view_name": "HTMLView",
       "description": "",
       "description_allow_html": false,
       "layout": "IPY_MODEL_350e2f2bdce34ca2905fb39ddd49ad59",
       "placeholder": "​",
       "style": "IPY_MODEL_0e88687a9e404430a1c0faf594c54522",
       "tabbable": null,
       "tooltip": null,
       "value": "Loading checkpoint shards: 100%"
      }
     },
     "abaf040dde5d4dbab555c06c4a42637c": {
      "model_module": "@jupyter-widgets/controls",
      "model_module_version": "2.0.0",
      "model_name": "HBoxModel",
      "state": {
       "_dom_classes": [],
       "_model_module": "@jupyter-widgets/controls",
       "_model_module_version": "2.0.0",
       "_model_name": "HBoxModel",
       "_view_count": null,
       "_view_module": "@jupyter-widgets/controls",
       "_view_module_version": "2.0.0",
       "_view_name": "HBoxView",
       "box_style": "",
       "children": [
        "IPY_MODEL_7eafb3ccb4d2422298d778b31e6e48e9",
        "IPY_MODEL_77538b5e23894f928a186c03986ffb9e",
        "IPY_MODEL_055d5cd1dd744f2ab3976653dd336fec"
       ],
       "layout": "IPY_MODEL_e2ad06b14a2a4fd498574850fbd547d7",
       "tabbable": null,
       "tooltip": null
      }
     },
     "ae28154eb39f45d4b626ddcd4c6035bf": {
      "model_module": "@jupyter-widgets/controls",
      "model_module_version": "2.0.0",
      "model_name": "ProgressStyleModel",
      "state": {
       "_model_module": "@jupyter-widgets/controls",
       "_model_module_version": "2.0.0",
       "_model_name": "ProgressStyleModel",
       "_view_count": null,
       "_view_module": "@jupyter-widgets/base",
       "_view_module_version": "2.0.0",
       "_view_name": "StyleView",
       "bar_color": null,
       "description_width": ""
      }
     },
     "b1139dbbfec140399be77986bf6d0f2d": {
      "model_module": "@jupyter-widgets/controls",
      "model_module_version": "2.0.0",
      "model_name": "ProgressStyleModel",
      "state": {
       "_model_module": "@jupyter-widgets/controls",
       "_model_module_version": "2.0.0",
       "_model_name": "ProgressStyleModel",
       "_view_count": null,
       "_view_module": "@jupyter-widgets/base",
       "_view_module_version": "2.0.0",
       "_view_name": "StyleView",
       "bar_color": null,
       "description_width": ""
      }
     },
     "b43449418f174d2e8d389a8fecafc900": {
      "model_module": "@jupyter-widgets/controls",
      "model_module_version": "2.0.0",
      "model_name": "HTMLModel",
      "state": {
       "_dom_classes": [],
       "_model_module": "@jupyter-widgets/controls",
       "_model_module_version": "2.0.0",
       "_model_name": "HTMLModel",
       "_view_count": null,
       "_view_module": "@jupyter-widgets/controls",
       "_view_module_version": "2.0.0",
       "_view_name": "HTMLView",
       "description": "",
       "description_allow_html": false,
       "layout": "IPY_MODEL_21bb46c9fe914f828a2f6e202901086d",
       "placeholder": "​",
       "style": "IPY_MODEL_e11b1780c3e44d66b6d246cf3ab263bf",
       "tabbable": null,
       "tooltip": null,
       "value": " 29356/29356 [00:04&lt;00:00, 6174.74 examples/s]"
      }
     },
     "be2adfc8401241988f371fc92457da8e": {
      "model_module": "@jupyter-widgets/controls",
      "model_module_version": "2.0.0",
      "model_name": "HTMLModel",
      "state": {
       "_dom_classes": [],
       "_model_module": "@jupyter-widgets/controls",
       "_model_module_version": "2.0.0",
       "_model_name": "HTMLModel",
       "_view_count": null,
       "_view_module": "@jupyter-widgets/controls",
       "_view_module_version": "2.0.0",
       "_view_name": "HTMLView",
       "description": "",
       "description_allow_html": false,
       "layout": "IPY_MODEL_4f26d12a3a954535a0a185c5241b7bdf",
       "placeholder": "​",
       "style": "IPY_MODEL_c5f71a38eca04135b427246e6e16e24e",
       "tabbable": null,
       "tooltip": null,
       "value": "Map: 100%"
      }
     },
     "c5f71a38eca04135b427246e6e16e24e": {
      "model_module": "@jupyter-widgets/controls",
      "model_module_version": "2.0.0",
      "model_name": "HTMLStyleModel",
      "state": {
       "_model_module": "@jupyter-widgets/controls",
       "_model_module_version": "2.0.0",
       "_model_name": "HTMLStyleModel",
       "_view_count": null,
       "_view_module": "@jupyter-widgets/base",
       "_view_module_version": "2.0.0",
       "_view_name": "StyleView",
       "background": null,
       "description_width": "",
       "font_size": null,
       "text_color": null
      }
     },
     "c8051806fcc447c28f897a28b7406fc6": {
      "model_module": "@jupyter-widgets/controls",
      "model_module_version": "2.0.0",
      "model_name": "HTMLStyleModel",
      "state": {
       "_model_module": "@jupyter-widgets/controls",
       "_model_module_version": "2.0.0",
       "_model_name": "HTMLStyleModel",
       "_view_count": null,
       "_view_module": "@jupyter-widgets/base",
       "_view_module_version": "2.0.0",
       "_view_name": "StyleView",
       "background": null,
       "description_width": "",
       "font_size": null,
       "text_color": null
      }
     },
     "ceffaa9319284af3a72f5bacf6048d4b": {
      "model_module": "@jupyter-widgets/controls",
      "model_module_version": "2.0.0",
      "model_name": "FloatProgressModel",
      "state": {
       "_dom_classes": [],
       "_model_module": "@jupyter-widgets/controls",
       "_model_module_version": "2.0.0",
       "_model_name": "FloatProgressModel",
       "_view_count": null,
       "_view_module": "@jupyter-widgets/controls",
       "_view_module_version": "2.0.0",
       "_view_name": "ProgressView",
       "bar_style": "success",
       "description": "",
       "description_allow_html": false,
       "layout": "IPY_MODEL_14e13f34014546c68c37ff44fb027252",
       "max": 4.0,
       "min": 0.0,
       "orientation": "horizontal",
       "style": "IPY_MODEL_ae28154eb39f45d4b626ddcd4c6035bf",
       "tabbable": null,
       "tooltip": null,
       "value": 4.0
      }
     },
     "e11b1780c3e44d66b6d246cf3ab263bf": {
      "model_module": "@jupyter-widgets/controls",
      "model_module_version": "2.0.0",
      "model_name": "HTMLStyleModel",
      "state": {
       "_model_module": "@jupyter-widgets/controls",
       "_model_module_version": "2.0.0",
       "_model_name": "HTMLStyleModel",
       "_view_count": null,
       "_view_module": "@jupyter-widgets/base",
       "_view_module_version": "2.0.0",
       "_view_name": "StyleView",
       "background": null,
       "description_width": "",
       "font_size": null,
       "text_color": null
      }
     },
     "e2ad06b14a2a4fd498574850fbd547d7": {
      "model_module": "@jupyter-widgets/base",
      "model_module_version": "2.0.0",
      "model_name": "LayoutModel",
      "state": {
       "_model_module": "@jupyter-widgets/base",
       "_model_module_version": "2.0.0",
       "_model_name": "LayoutModel",
       "_view_count": null,
       "_view_module": "@jupyter-widgets/base",
       "_view_module_version": "2.0.0",
       "_view_name": "LayoutView",
       "align_content": null,
       "align_items": null,
       "align_self": null,
       "border_bottom": null,
       "border_left": null,
       "border_right": null,
       "border_top": null,
       "bottom": null,
       "display": null,
       "flex": null,
       "flex_flow": null,
       "grid_area": null,
       "grid_auto_columns": null,
       "grid_auto_flow": null,
       "grid_auto_rows": null,
       "grid_column": null,
       "grid_gap": null,
       "grid_row": null,
       "grid_template_areas": null,
       "grid_template_columns": null,
       "grid_template_rows": null,
       "height": null,
       "justify_content": null,
       "justify_items": null,
       "left": null,
       "margin": null,
       "max_height": null,
       "max_width": null,
       "min_height": null,
       "min_width": null,
       "object_fit": null,
       "object_position": null,
       "order": null,
       "overflow": null,
       "padding": null,
       "right": null,
       "top": null,
       "visibility": null,
       "width": null
      }
     },
     "e320d1b091ca4bf68223c4b9e6d43963": {
      "model_module": "@jupyter-widgets/controls",
      "model_module_version": "2.0.0",
      "model_name": "HTMLModel",
      "state": {
       "_dom_classes": [],
       "_model_module": "@jupyter-widgets/controls",
       "_model_module_version": "2.0.0",
       "_model_name": "HTMLModel",
       "_view_count": null,
       "_view_module": "@jupyter-widgets/controls",
       "_view_module_version": "2.0.0",
       "_view_name": "HTMLView",
       "description": "",
       "description_allow_html": false,
       "layout": "IPY_MODEL_66a1e437e8fd44b6b19c57a42e204752",
       "placeholder": "​",
       "style": "IPY_MODEL_c8051806fcc447c28f897a28b7406fc6",
       "tabbable": null,
       "tooltip": null,
       "value": " 4/4 [01:47&lt;00:00, 25.34s/it]"
      }
     },
     "ea220c24ebaf45abae91147e549bc4b8": {
      "model_module": "@jupyter-widgets/base",
      "model_module_version": "2.0.0",
      "model_name": "LayoutModel",
      "state": {
       "_model_module": "@jupyter-widgets/base",
       "_model_module_version": "2.0.0",
       "_model_name": "LayoutModel",
       "_view_count": null,
       "_view_module": "@jupyter-widgets/base",
       "_view_module_version": "2.0.0",
       "_view_name": "LayoutView",
       "align_content": null,
       "align_items": null,
       "align_self": null,
       "border_bottom": null,
       "border_left": null,
       "border_right": null,
       "border_top": null,
       "bottom": null,
       "display": null,
       "flex": null,
       "flex_flow": null,
       "grid_area": null,
       "grid_auto_columns": null,
       "grid_auto_flow": null,
       "grid_auto_rows": null,
       "grid_column": null,
       "grid_gap": null,
       "grid_row": null,
       "grid_template_areas": null,
       "grid_template_columns": null,
       "grid_template_rows": null,
       "height": null,
       "justify_content": null,
       "justify_items": null,
       "left": null,
       "margin": null,
       "max_height": null,
       "max_width": null,
       "min_height": null,
       "min_width": null,
       "object_fit": null,
       "object_position": null,
       "order": null,
       "overflow": null,
       "padding": null,
       "right": null,
       "top": null,
       "visibility": null,
       "width": null
      }
     },
     "f8552bc84f014ef68736665b14231e64": {
      "model_module": "@jupyter-widgets/controls",
      "model_module_version": "2.0.0",
      "model_name": "HTMLStyleModel",
      "state": {
       "_model_module": "@jupyter-widgets/controls",
       "_model_module_version": "2.0.0",
       "_model_name": "HTMLStyleModel",
       "_view_count": null,
       "_view_module": "@jupyter-widgets/base",
       "_view_module_version": "2.0.0",
       "_view_name": "StyleView",
       "background": null,
       "description_width": "",
       "font_size": null,
       "text_color": null
      }
     }
    },
    "version_major": 2,
    "version_minor": 0
   }
  }
 },
 "nbformat": 4,
 "nbformat_minor": 5
}
